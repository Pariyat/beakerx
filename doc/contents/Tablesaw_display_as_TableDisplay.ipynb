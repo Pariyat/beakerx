{
 "cells": [
  {
   "cell_type": "markdown",
   "metadata": {},
   "source": [
    "# Automatic Display for Tablesaw\n",
    "\n",
    "BeakerX allows you to register methods to display 3rd party classes such as Tablesaw's Tables.\n",
    "You can either write such a method in a cell yourself, or load it from a JAR.\n",
    "We include such a JAR in the documentation, and this tutorial demonstrates it."
   ]
  },
  {
   "cell_type": "code",
   "execution_count": 6,
   "metadata": {},
   "outputs": [],
   "source": [
    "%classpath add mvn tech.tablesaw tablesaw-plot 0.10.0\n",
    "%classpath add mvn tech.tablesaw tablesaw-smile 0.10.0\n",
    "%import tech.tablesaw.api.*\n",
    "%import tech.tablesaw.api.ml.clustering.*\n",
    "%import tech.tablesaw.api.ml.regression.*\n",
    "%import tech.tablesaw.columns.*    \n",
    "%import tech.tablesaw.reducing.*  "
   ]
  },
  {
   "cell_type": "code",
   "execution_count": 7,
   "metadata": {},
   "outputs": [],
   "source": [
    "%classpath add jar demoResources/tablesaw_0.10.0_Demo.jar\n",
    "%import com.beakerx.TablesawDisplayer\n",
    "TablesawDisplayer.register()\n",
    "OutputCell.HIDDEN"
   ]
  },
  {
   "cell_type": "markdown",
   "metadata": {},
   "source": [
    "Source code of TablesawDisplayer class\n",
    "\n",
    "```java\n",
    "package com.beakerx;\n",
    "\n",
    "import com.github.lwhite1.tablesaw.api.Table;\n",
    "import com.twosigma.beakerx.jvm.object.OutputCell;\n",
    "import com.twosigma.beakerx.table.TableDisplay;\n",
    "import jupyter.Displayer;\n",
    "import jupyter.Displayers;\n",
    "\n",
    "import java.util.Map;\n",
    "\n",
    "public class TablesawDisplayer {\n",
    "\n",
    "  public static void register() {\n",
    "    Displayers.register(Table.class, new Displayer<Table>() {\n",
    "      @Override\n",
    "      public Map<String, String> display(Table table) {\n",
    "        new TableDisplay(\n",
    "                table.rowCount(),\n",
    "                table.columnCount(),\n",
    "                table.columnNames(),\n",
    "                new TableDisplay.Element() {\n",
    "                  @Override\n",
    "                  public String get(int columnIndex, int rowIndex) {\n",
    "                    return table.get(columnIndex, rowIndex);\n",
    "                  }\n",
    "                }\n",
    "        ).display();\n",
    "        return OutputCell.DISPLAYER_HIDDEN;\n",
    "      }\n",
    "    });\n",
    "  }\n",
    "}\n",
    "```"
   ]
  },
  {
   "cell_type": "code",
   "execution_count": 8,
   "metadata": {},
   "outputs": [
    {
     "ename": "java.lang.IndexOutOfBoundsException",
     "evalue": " Index",
     "output_type": "error",
     "traceback": [
      "\u001b[0;31mjava.lang.IndexOutOfBoundsException: Index: 11, Size: 11",
      "\u001b[0;31m\tat tech.tablesaw.api.Table.column(Table.java:503)",
      "\u001b[0;31m\tat tech.tablesaw.api.Table.get(Table.java:611)",
      "\u001b[0;31m\tat com.beakerx.TablesawDisplayer$1$1.get(TablesawDisplayer.java:39)",
      "\u001b[0;31m\tat com.twosigma.beakerx.table.TableDisplayConverter.convert(TableDisplayConverter.java:31)",
      "\u001b[0;31m\tat com.twosigma.beakerx.table.TableDisplay.<init>(TableDisplay.java:178)",
      "\u001b[0;31m\tat com.beakerx.TablesawDisplayer$1.display(TablesawDisplayer.java:35)",
      "\u001b[0;31m\tat com.beakerx.TablesawDisplayer$1.display(TablesawDisplayer.java:29)",
      "\u001b[0;31m\tat jupyter.Displayers.display(Displayers.java:62)",
      "\u001b[0;31m\tat com.twosigma.beakerx.SerializeToString.getMimeContainer(SerializeToString.java:73)",
      "\u001b[0;31m\tat com.twosigma.beakerx.SerializeToString.doit(SerializeToString.java:44)",
      "\u001b[0;31m\tat com.twosigma.beakerx.kernel.msg.MessageCreator.createFinishResult(MessageCreator.java:261)",
      "\u001b[0;31m\tat com.twosigma.beakerx.kernel.msg.MessageCreator.createResultForSupportedStatus(MessageCreator.java:173)",
      "\u001b[0;31m\tat com.twosigma.beakerx.kernel.msg.MessageCreator.createMessage(MessageCreator.java:163)",
      "\u001b[0;31m\tat com.twosigma.beakerx.kernel.threads.ExecutionResultSender.update(ExecutionResultSender.java:49)",
      "\u001b[0;31m\tat com.twosigma.beakerx.jvm.object.SimpleEvaluationObject.finished(SimpleEvaluationObject.java:80)",
      "\u001b[0;31m\tat com.twosigma.beakerx.groovy.evaluator.GroovyCodeRunner.run(GroovyCodeRunner.java:78)"
     ]
    }
   ],
   "source": [
    "// This cell displays the table widget\n",
    "tornadoes = Table.read().csv(\"Tablesaw/tornadoes_2014.csv\")"
   ]
  },
  {
   "cell_type": "code",
   "execution_count": null,
   "metadata": {
    "collapsed": true
   },
   "outputs": [],
   "source": []
  }
 ],
 "metadata": {
  "kernelspec": {
   "display_name": "Groovy",
   "language": "groovy",
   "name": "groovy"
  },
  "language_info": {
   "codemirror_mode": "groovy",
   "file_extension": ".groovy",
   "mimetype": "",
   "name": "Groovy",
   "nbconverter_exporter": "",
   "version": "2.4.3"
  }
 },
 "nbformat": 4,
 "nbformat_minor": 2
}

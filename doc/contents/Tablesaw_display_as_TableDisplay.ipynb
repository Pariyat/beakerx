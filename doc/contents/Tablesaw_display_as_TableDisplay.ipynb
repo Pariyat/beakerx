{
 "cells": [
  {
   "cell_type": "markdown",
   "metadata": {},
   "source": [
    "# Automatic Display for Tablesaw\n",
    "\n",
    "BeakerX allows you to register methods to display 3rd party classes such as Tablesaw's Tables.\n",
    "You can either write such a method in a cell yourself, or load it from a JAR.\n",
    "We include such a JAR in the documentation, and this tutorial demonstrates it."
   ]
  },
  {
   "cell_type": "code",
   "execution_count": 1,
   "metadata": {},
   "outputs": [
    {
     "name": "stdout",
     "output_type": "stream",
     "text": [
      "Added jars: [commons-lang3.jar, smile-graph.jar, fastutil.jar, gson.jar, commons-math3.jar, kotlin-stdlib-jre8.jar, commons-text.jar, guava.jar, tablesaw-smile.jar, error_prone_annotations.jar, animal-sniffer-annotations.jar, jsr305.jar, xchart.jar, commons-logging.jar, swingx.jar, smile-plot.jar, smile-data.jar, VectorGraphics2D.jar, tablesaw-plot.jar, slf4j-api.jar, RoaringBitmap.jar, annotations.jar, smile-core.jar, tablesaw-core.jar, smile-math.jar, swing-worker.jar, filters.jar, commons-beanutils.jar, commons-collections.jar, j2objc-annotations.jar, opencsv.jar, snappy.jar, kotlin-stdlib.jar, kotlin-stdlib-jre7.jar]\n"
     ]
    }
   ],
   "source": [
    "%classpath add mvn tech.tablesaw tablesaw-plot 0.10.0\n",
    "%import com.github.lwhite1.tablesaw.api.*\n",
    "%import com.github.lwhite1.tablesaw.api.ml.clustering.*\n",
    "%import com.github.lwhite1.tablesaw.api.ml.regression.*\n",
    "%import com.github.lwhite1.tablesaw.columns.*    \n",
    "%import com.github.lwhite1.tablesaw.reducing.*   "
   ]
  },
  {
   "cell_type": "code",
   "execution_count": 2,
   "metadata": {},
   "outputs": [
    {
     "name": "stdout",
     "output_type": "stream",
     "text": [
      "Added jar: [tablesaw-0.7.6.4_Demo.jar]\n"
     ]
    },
    {
     "ename": "java.lang.NoClassDefFoundError",
     "evalue": " com/github/lwhite1/tablesaw/api/Table",
     "output_type": "error",
     "traceback": [
      "\u001b[0;31mjava.lang.NoClassDefFoundError: com/github/lwhite1/tablesaw/api/Table",
      "\u001b[0;31m\tat com.beakerx.TablesawDisplayer.register(TablesawDisplayer.java:29)",
      "\u001b[0;31m\tat com.beakerx.TablesawDisplayer$register.call(Unknown Source)",
      "\u001b[0;31m\tat script1505130679459530053353.run(script1505130679459530053353.groovy:1)",
      "\u001b[0;31m\tat com.twosigma.beakerx.groovy.evaluator.GroovyCodeRunner.run(GroovyCodeRunner.java:71)",
      "\u001b[0;31mCaused by: java.lang.ClassNotFoundException: com.github.lwhite1.tablesaw.api.Table",
      "\u001b[0;31m\tat java.net.URLClassLoader.findClass(URLClassLoader.java:381)",
      "\u001b[0;31m\tat java.lang.ClassLoader.loadClass(ClassLoader.java:424)",
      "\u001b[0;31m\tat groovy.lang.GroovyClassLoader.loadClass(GroovyClassLoader.java:676)",
      "\u001b[0;31m\tat groovy.lang.GroovyClassLoader.loadClass(GroovyClassLoader.java:786)",
      "\u001b[0;31m\tat groovy.lang.GroovyClassLoader.loadClass(GroovyClassLoader.java:774)",
      "\u001b[0;31m\tat com.beakerx.TablesawDisplayer.register(TablesawDisplayer.java:29)",
      "\u001b[0;31m\tat com.beakerx.TablesawDisplayer$register.call(Unknown Source)",
      "\u001b[0;31m\tat org.codehaus.groovy.runtime.callsite.CallSiteArray.defaultCall(CallSiteArray.java:45)",
      "\u001b[0;31m\tat org.codehaus.groovy.runtime.callsite.AbstractCallSite.call(AbstractCallSite.java:110)",
      "\u001b[0;31m\tat org.codehaus.groovy.runtime.callsite.AbstractCallSite.call(AbstractCallSite.java:114)",
      "\u001b[0;31m\tat script1505130679459530053353.run(script1505130679459530053353.groovy:1)",
      "\u001b[0;31m\tat com.twosigma.beakerx.groovy.evaluator.GroovyCodeRunner.run(GroovyCodeRunner.java:71)",
      "\u001b[0;31m\tat java.util.concurrent.Executors$RunnableAdapter.call(Executors.java:511)",
      "\u001b[0;31m\tat java.util.concurrent.FutureTask.run(FutureTask.java:266)",
      "\u001b[0;31m\tat java.util.concurrent.ThreadPoolExecutor.runWorker(ThreadPoolExecutor.java:1142)",
      "\u001b[0;31m\tat java.util.concurrent.ThreadPoolExecutor$Worker.run(ThreadPoolExecutor.java:617)",
      "\u001b[0;31m\tat java.lang.Thread.run(Thread.java:745)"
     ]
    }
   ],
   "source": [
    "%classpath add jar demoResources/tablesaw-0.7.6.4_Demo.jar\n",
    "%import com.beakerx.TablesawDisplayer\n",
    "TablesawDisplayer.register()\n",
    "OutputCell.HIDDEN"
   ]
  },
  {
   "cell_type": "markdown",
   "metadata": {},
   "source": [
    "Source code of TablesawDisplayer class\n",
    "\n",
    "```java\n",
    "package com.beakerx;\n",
    "\n",
    "import com.github.lwhite1.tablesaw.api.Table;\n",
    "import com.twosigma.beakerx.jvm.object.OutputCell;\n",
    "import com.twosigma.beakerx.table.TableDisplay;\n",
    "import jupyter.Displayer;\n",
    "import jupyter.Displayers;\n",
    "\n",
    "import java.util.Map;\n",
    "\n",
    "public class TablesawDisplayer {\n",
    "\n",
    "  public static void register() {\n",
    "    Displayers.register(Table.class, new Displayer<Table>() {\n",
    "      @Override\n",
    "      public Map<String, String> display(Table table) {\n",
    "        new TableDisplay(\n",
    "                table.rowCount(),\n",
    "                table.columnCount(),\n",
    "                table.columnNames(),\n",
    "                new TableDisplay.Element() {\n",
    "                  @Override\n",
    "                  public String get(int columnIndex, int rowIndex) {\n",
    "                    return table.get(columnIndex, rowIndex);\n",
    "                  }\n",
    "                }\n",
    "        ).display();\n",
    "        return OutputCell.DISPLAYER_HIDDEN;\n",
    "      }\n",
    "    });\n",
    "  }\n",
    "}\n",
    "```"
   ]
  },
  {
   "cell_type": "code",
   "execution_count": 3,
   "metadata": {},
   "outputs": [
    {
     "data": {
      "application/vnd.jupyter.widget-view+json": {
       "model_id": "a98f9456-db6a-4de1-9c66-9dbfd206bfb7",
       "version_major": "2",
       "version_minor": "0"
      },
      "method": "display_data"
     },
     "metadata": {},
     "output_type": "display_data"
    }
   ],
   "source": [
    "// This cell displays the table widget\n",
    "tornadoes = Table.createFromCsv(\"Tablesaw/tornadoes_2014.csv\")"
   ]
  },
  {
   "cell_type": "code",
   "execution_count": null,
   "metadata": {
    "collapsed": true
   },
   "outputs": [],
   "source": []
  }
 ],
 "metadata": {
  "kernelspec": {
   "display_name": "Groovy",
   "language": "groovy",
   "name": "groovy"
  },
  "language_info": {
   "codemirror_mode": "groovy",
   "file_extension": ".groovy",
   "mimetype": "",
   "name": "Groovy",
   "nbconverter_exporter": "",
   "version": "2.4.3"
  }
 },
 "nbformat": 4,
 "nbformat_minor": 2
}

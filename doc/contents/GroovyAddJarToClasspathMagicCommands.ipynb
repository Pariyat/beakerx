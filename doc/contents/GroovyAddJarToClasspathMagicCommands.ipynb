{
 "cells": [
  {
   "cell_type": "markdown",
   "metadata": {},
   "source": [
    "# Manipulating the Java Class Path and Imports\n",
    "\n",
    "The magic `%classpath` allows you to add jars to your kernel.  And the magics `%import` and `%unimport` control which classes are visible by default in your code.  These magics work in all the BeakerX JVM kernels.\n",
    "\n",
    "This first cell shows that you get an error if you try to import a class not built-in to BeakerX:"
   ]
  },
  {
   "cell_type": "code",
   "execution_count": null,
   "metadata": {
    "collapsed": true
   },
   "outputs": [],
   "source": [
    "import com.example.Demo"
   ]
  },
  {
   "cell_type": "markdown",
   "metadata": {},
   "source": [
    "Then load a jar into the kernel with this magic"
   ]
  },
  {
   "cell_type": "code",
   "execution_count": null,
   "metadata": {
    "collapsed": true
   },
   "outputs": [],
   "source": [
    "%classpath add jar demoResources/demo.jar"
   ]
  },
  {
   "cell_type": "markdown",
   "metadata": {},
   "source": [
    "Source code of Demo class\n",
    "\n",
    "```java\n",
    "package com.example;\n",
    "\n",
    "public class Demo {\n",
    "    public static final String OBJECT_TEST_123 = \"Demo_test_123\";\n",
    "    public static final String STATIC_TEST_123 = \"Demo_static_test_123\";\n",
    "\n",
    "    public Demo() {\n",
    "    }\n",
    "\n",
    "    public static String staticTest() {\n",
    "        return \"Demo_static_test_123\";\n",
    "    }\n",
    "\n",
    "    public String getObjectTest() {\n",
    "        return \"Demo_test_123\";\n",
    "    }\n",
    "}\n",
    "```"
   ]
  },
  {
   "cell_type": "markdown",
   "metadata": {},
   "source": [
    "Then it imports and runs"
   ]
  },
  {
   "cell_type": "code",
   "execution_count": null,
   "metadata": {
    "collapsed": true
   },
   "outputs": [],
   "source": [
    "import com.example.Demo"
   ]
  },
  {
   "cell_type": "code",
   "execution_count": null,
   "metadata": {
    "collapsed": true
   },
   "outputs": [],
   "source": [
    "import com.example.Demo\n",
    "Demo demo = new Demo();\n",
    "println demo.getObjectTest()"
   ]
  },
  {
   "cell_type": "markdown",
   "metadata": {},
   "source": [
    "You can add multiple jars.  Wildcards also work."
   ]
  },
  {
   "cell_type": "code",
   "execution_count": null,
   "metadata": {
    "collapsed": true
   },
   "outputs": [],
   "source": [
    "%classpath add jar demoResources/demo.jar\n",
    "%classpath add jar demoResources/BeakerXClasspathTest.jar\n",
    "\n",
    "println com.example.Demo.staticTest();\n",
    "\n",
    "import com.twosigma.beakerx.jvm.object.OutputCell\n",
    "import com.example.Demo\n",
    "\n",
    "Demo demo = new Demo();\n",
    "println demo.getObjectTest()\n",
    "\n",
    "import com.beaker.BeakerXClasspathTest\n",
    "BeakerXClasspathTest t = new BeakerXClasspathTest();\n",
    "println com.beaker.BeakerXClasspathTest.staticTest;\n",
    "println t.getObjectTest();\n",
    "OutputCell.HIDDEN"
   ]
  },
  {
   "cell_type": "markdown",
   "metadata": {},
   "source": [
    "With no arguments you can printout all loaded jars."
   ]
  },
  {
   "cell_type": "code",
   "execution_count": null,
   "metadata": {
    "collapsed": true
   },
   "outputs": [],
   "source": [
    "%classpath"
   ]
  },
  {
   "cell_type": "markdown",
   "metadata": {},
   "source": [
    "## Grapes, Maven, and Ivy\n",
    "\n",
    "Groovy has a dependency manager called [Grape](http://docs.groovy-lang.org/latest/html/documentation/grape.html) built-in and you can access it as follows.  A more powerful classpath magic that works for the rest of the languages is on the [agenda](https://github.com/twosigma/beakerx/issues/5836)."
   ]
  },
  {
   "cell_type": "code",
   "execution_count": null,
   "metadata": {
    "collapsed": true
   },
   "outputs": [],
   "source": [
    "@Grapes(\n",
    "    @Grab(group='commons-io', module='commons-io', version='2.5')\n",
    ")\n",
    "import org.apache.commons.io.Charsets\n",
    "println Charsets.US_ASCII"
   ]
  },
  {
   "cell_type": "markdown",
   "metadata": {},
   "source": [
    "## Import and Unimport\n",
    "\n",
    "Normally `import` in Groovy only works in the cell where you use it.  To make a class import automatically into all cells, use `%import` magic."
   ]
  },
  {
   "cell_type": "code",
   "execution_count": null,
   "metadata": {
    "collapsed": true
   },
   "outputs": [],
   "source": [
    "%import com.twosigma.beakerx.widgets.integers.IntSlider\n",
    "w = new IntSlider()\n",
    "w.value = 60\n",
    "w"
   ]
  },
  {
   "cell_type": "code",
   "execution_count": null,
   "metadata": {
    "collapsed": true
   },
   "outputs": [],
   "source": [
    "w2 = new IntSlider()"
   ]
  },
  {
   "cell_type": "code",
   "execution_count": null,
   "metadata": {
    "collapsed": true
   },
   "outputs": [],
   "source": [
    "%unimport com.twosigma.beakerx.widgets.integers.IntSlider"
   ]
  },
  {
   "cell_type": "code",
   "execution_count": null,
   "metadata": {
    "collapsed": true
   },
   "outputs": [],
   "source": [
    "w3 = new IntSlider()"
   ]
  },
  {
   "cell_type": "code",
   "execution_count": null,
   "metadata": {
    "collapsed": true
   },
   "outputs": [],
   "source": [
    "%import static java.lang.Math.PI"
   ]
  },
  {
   "cell_type": "code",
   "execution_count": null,
   "metadata": {
    "collapsed": true
   },
   "outputs": [],
   "source": [
    "PI"
   ]
  },
  {
   "cell_type": "markdown",
   "metadata": {},
   "source": [
    "More details of the implementation:"
   ]
  },
  {
   "cell_type": "code",
   "execution_count": null,
   "metadata": {
    "collapsed": true
   },
   "outputs": [],
   "source": [
    "%classpath add jar demoResources/demo.jar\n",
    "%classpath\n",
    "5+5"
   ]
  },
  {
   "cell_type": "code",
   "execution_count": null,
   "metadata": {
    "collapsed": true
   },
   "outputs": [],
   "source": [
    "%classpath\n",
    "%classpath add jar demoResources/demo.jar"
   ]
  },
  {
   "cell_type": "code",
   "execution_count": null,
   "metadata": {
    "collapsed": true
   },
   "outputs": [],
   "source": [
    "%classpath add jar demoResources/demo.jar\n",
    "%classpath"
   ]
  },
  {
   "cell_type": "code",
   "execution_count": null,
   "metadata": {
    "collapsed": true
   },
   "outputs": [],
   "source": [
    "%import static com.example.Demo.staticTest"
   ]
  }
 ],
 "metadata": {
  "beakerx_kernel_parameters": {},
  "kernelspec": {
   "display_name": "Groovy",
   "language": "groovy",
   "name": "groovy"
  },
  "language_info": {
   "codemirror_mode": "groovy",
   "file_extension": ".groovy",
   "mimetype": "",
   "name": "Groovy",
   "nbconverter_exporter": "",
   "version": "2.4.3"
  }
 },
 "nbformat": 4,
 "nbformat_minor": 1
}

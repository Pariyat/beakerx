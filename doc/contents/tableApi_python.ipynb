{
 "cells": [
  {
   "cell_type": "markdown",
   "metadata": {},
   "source": [
    "# Python API for Table Display\n",
    "\n",
    "In addition to APIs for creating and formatting BeakerX's interactive table widget, the Python runtime configures pandas to display tables with the interactive widget instead of static HTML."
   ]
  },
  {
   "cell_type": "code",
   "execution_count": 1,
   "metadata": {
    "collapsed": true
   },
   "outputs": [],
   "source": [
    "import pandas as pd\n",
    "import beakerx\n",
    "\n",
    "pd.read_csv('demoResources/interest-rates.csv')"
   ]
  },
  {
   "cell_type": "code",
   "execution_count": 2,
   "metadata": {},
   "outputs": [
    {
     "ename": "NameError",
     "evalue": "name 'TableDisplay' is not defined",
     "output_type": "error",
     "traceback": [
      "\u001b[0;31m---------------------------------------------------------------------------\u001b[0m",
      "\u001b[0;31mNameError\u001b[0m                                 Traceback (most recent call last)",
      "\u001b[0;32m<ipython-input-2-4f213f97ad1e>\u001b[0m in \u001b[0;36m<module>\u001b[0;34m()\u001b[0m\n\u001b[0;32m----> 1\u001b[0;31m \u001b[0mtable\u001b[0m \u001b[0;34m=\u001b[0m \u001b[0mTableDisplay\u001b[0m\u001b[0;34m(\u001b[0m\u001b[0mpd\u001b[0m\u001b[0;34m.\u001b[0m\u001b[0mread_csv\u001b[0m\u001b[0;34m(\u001b[0m\u001b[0;34m'demoResources/interest-rates2.csv'\u001b[0m\u001b[0;34m)\u001b[0m\u001b[0;34m)\u001b[0m\u001b[0;34m\u001b[0m\u001b[0m\n\u001b[0m\u001b[1;32m      2\u001b[0m \u001b[0mtable\u001b[0m\u001b[0;34m.\u001b[0m\u001b[0msetAlignmentProviderForColumn\u001b[0m\u001b[0;34m(\u001b[0m\u001b[0;34m'm3'\u001b[0m\u001b[0;34m,\u001b[0m \u001b[0mTableDisplayAlignmentProvider\u001b[0m\u001b[0;34m.\u001b[0m\u001b[0mCENTER_ALIGNMENT\u001b[0m\u001b[0;34m)\u001b[0m\u001b[0;34m\u001b[0m\u001b[0m\n\u001b[1;32m      3\u001b[0m \u001b[0mtable\u001b[0m\u001b[0;34m.\u001b[0m\u001b[0msetRendererForColumn\u001b[0m\u001b[0;34m(\u001b[0m\u001b[0;34m\"y10\"\u001b[0m\u001b[0;34m,\u001b[0m \u001b[0mTableDisplayCellRenderer\u001b[0m\u001b[0;34m.\u001b[0m\u001b[0mgetDataBarsRenderer\u001b[0m\u001b[0;34m(\u001b[0m\u001b[0;32mFalse\u001b[0m\u001b[0;34m)\u001b[0m\u001b[0;34m)\u001b[0m\u001b[0;34m\u001b[0m\u001b[0m\n\u001b[1;32m      4\u001b[0m \u001b[0mtable\u001b[0m\u001b[0;34m.\u001b[0m\u001b[0msetRendererForType\u001b[0m\u001b[0;34m(\u001b[0m\u001b[0mColumnType\u001b[0m\u001b[0;34m.\u001b[0m\u001b[0mDouble\u001b[0m\u001b[0;34m,\u001b[0m \u001b[0mTableDisplayCellRenderer\u001b[0m\u001b[0;34m.\u001b[0m\u001b[0mgetDataBarsRenderer\u001b[0m\u001b[0;34m(\u001b[0m\u001b[0;32mTrue\u001b[0m\u001b[0;34m)\u001b[0m\u001b[0;34m)\u001b[0m\u001b[0;34m\u001b[0m\u001b[0m\n\u001b[1;32m      5\u001b[0m \u001b[0mtable\u001b[0m\u001b[0;34m\u001b[0m\u001b[0m\n",
      "\u001b[0;31mNameError\u001b[0m: name 'TableDisplay' is not defined"
     ]
    }
   ],
   "source": [
    "table = TableDisplay(pd.read_csv('demoResources/interest-rates2.csv'))\n",
    "table.setAlignmentProviderForColumn('m3', TableDisplayAlignmentProvider.CENTER_ALIGNMENT)\n",
    "table.setRendererForColumn(\"y10\", TableDisplayCellRenderer.getDataBarsRenderer(False))\n",
    "table.setRendererForType(ColumnType.Double, TableDisplayCellRenderer.getDataBarsRenderer(True))\n",
    "table"
   ]
  },
  {
   "cell_type": "code",
   "execution_count": 4,
   "metadata": {},
   "outputs": [
    {
     "ename": "NameError",
     "evalue": "name 'TableDisplay' is not defined",
     "output_type": "error",
     "traceback": [
      "\u001b[0;31m---------------------------------------------------------------------------\u001b[0m",
      "\u001b[0;31mNameError\u001b[0m                                 Traceback (most recent call last)",
      "\u001b[0;32m<ipython-input-4-86d25879cd49>\u001b[0m in \u001b[0;36m<module>\u001b[0;34m()\u001b[0m\n\u001b[0;32m----> 1\u001b[0;31m \u001b[0mtable\u001b[0m \u001b[0;34m=\u001b[0m \u001b[0mTableDisplay\u001b[0m\u001b[0;34m(\u001b[0m\u001b[0mpd\u001b[0m\u001b[0;34m.\u001b[0m\u001b[0mread_csv\u001b[0m\u001b[0;34m(\u001b[0m\u001b[0;34m'demoResources/interest-rates.csv'\u001b[0m\u001b[0;34m)\u001b[0m\u001b[0;34m)\u001b[0m\u001b[0;34m\u001b[0m\u001b[0m\n\u001b[0m\u001b[1;32m      2\u001b[0m \u001b[0mtable\u001b[0m\u001b[0;34m.\u001b[0m\u001b[0msetStringFormatForTimes\u001b[0m\u001b[0;34m(\u001b[0m\u001b[0mTimeUnit\u001b[0m\u001b[0;34m.\u001b[0m\u001b[0mDAYS\u001b[0m\u001b[0;34m)\u001b[0m\u001b[0;34m\u001b[0m\u001b[0m\n\u001b[1;32m      3\u001b[0m \u001b[0mtable\u001b[0m\u001b[0;34m.\u001b[0m\u001b[0msetStringFormatForType\u001b[0m\u001b[0;34m(\u001b[0m\u001b[0mColumnType\u001b[0m\u001b[0;34m.\u001b[0m\u001b[0mDouble\u001b[0m\u001b[0;34m,\u001b[0m \u001b[0mTableDisplayStringFormat\u001b[0m\u001b[0;34m.\u001b[0m\u001b[0mgetDecimalFormat\u001b[0m\u001b[0;34m(\u001b[0m\u001b[0;36m4\u001b[0m\u001b[0;34m,\u001b[0m\u001b[0;36m6\u001b[0m\u001b[0;34m)\u001b[0m\u001b[0;34m)\u001b[0m\u001b[0;34m\u001b[0m\u001b[0m\n\u001b[1;32m      4\u001b[0m \u001b[0mtable\u001b[0m\u001b[0;34m.\u001b[0m\u001b[0msetStringFormatForColumn\u001b[0m\u001b[0;34m(\u001b[0m\u001b[0;34m\"m3\"\u001b[0m\u001b[0;34m,\u001b[0m \u001b[0mTableDisplayStringFormat\u001b[0m\u001b[0;34m.\u001b[0m\u001b[0mgetDecimalFormat\u001b[0m\u001b[0;34m(\u001b[0m\u001b[0;36m0\u001b[0m\u001b[0;34m,\u001b[0m \u001b[0;36m0\u001b[0m\u001b[0;34m)\u001b[0m\u001b[0;34m)\u001b[0m\u001b[0;34m\u001b[0m\u001b[0m\n\u001b[1;32m      5\u001b[0m \u001b[0;34m\u001b[0m\u001b[0m\n",
      "\u001b[0;31mNameError\u001b[0m: name 'TableDisplay' is not defined"
     ]
    }
   ],
   "source": [
    "table = TableDisplay(pd.read_csv('demoResources/interest-rates.csv'))\n",
    "table.setStringFormatForTimes(TimeUnit.DAYS)\n",
    "table.setStringFormatForType(ColumnType.Double, TableDisplayStringFormat.getDecimalFormat(4,6))\n",
    "table.setStringFormatForColumn(\"m3\", TableDisplayStringFormat.getDecimalFormat(0, 0))\n",
    "\n",
    "table"
   ]
  },
  {
   "cell_type": "code",
   "execution_count": null,
   "metadata": {
    "collapsed": true
   },
   "outputs": [],
   "source": [
    "table = TableDisplay(pd.read_csv('demoResources/interest-rates.csv'))\n",
    "table\n",
    "#freeze a column\n",
    "table.setColumnFrozen(\"y1\", True)\n",
    "#freeze a column to the right\n",
    "table.setColumnFrozenRight(\"y10\", True)\n",
    "#hide a column\n",
    "table.setColumnVisible(\"y30\", False)\n",
    "\n",
    "table.setColumnOrder([\"m3\", \"y1\", \"y5\", \"time\", \"y2\"])\n",
    "\n",
    "table"
   ]
  },
  {
   "cell_type": "code",
   "execution_count": null,
   "metadata": {
    "collapsed": true
   },
   "outputs": [],
   "source": [
    "table = TableDisplay(pd.read_csv('demoResources/interest-rates.csv'))\n",
    "table.addCellHighlighter(TableDisplayCellHighlighter.getHeatmapHighlighter(\"m3\", TableDisplayCellHighlighter.FULL_ROW))\n",
    "\n",
    "table"
   ]
  },
  {
   "cell_type": "markdown",
   "metadata": {},
   "source": [
    "### Display mode: Pandas default"
   ]
  },
  {
   "cell_type": "code",
   "execution_count": 6,
   "metadata": {},
   "outputs": [
    {
     "data": {
      "text/html": [
       "<div>\n",
       "<style>\n",
       "    .dataframe thead tr:only-child th {\n",
       "        text-align: right;\n",
       "    }\n",
       "\n",
       "    .dataframe thead th {\n",
       "        text-align: left;\n",
       "    }\n",
       "\n",
       "    .dataframe tbody tr th {\n",
       "        vertical-align: top;\n",
       "    }\n",
       "</style>\n",
       "<table border=\"1\" class=\"dataframe\">\n",
       "  <thead>\n",
       "    <tr style=\"text-align: right;\">\n",
       "      <th></th>\n",
       "      <th>m3</th>\n",
       "      <th>y30</th>\n",
       "      <th>y1</th>\n",
       "      <th>m6</th>\n",
       "      <th>y2</th>\n",
       "      <th>y10</th>\n",
       "      <th>y3</th>\n",
       "      <th>time</th>\n",
       "      <th>y5</th>\n",
       "      <th>y7</th>\n",
       "      <th>spread</th>\n",
       "    </tr>\n",
       "  </thead>\n",
       "  <tbody>\n",
       "    <tr>\n",
       "      <th>0</th>\n",
       "      <td>7.8981</td>\n",
       "      <td>8.2586</td>\n",
       "      <td>7.9210</td>\n",
       "      <td>7.9562</td>\n",
       "      <td>8.0852</td>\n",
       "      <td>8.2067</td>\n",
       "      <td>8.1324</td>\n",
       "      <td>1990-01-30</td>\n",
       "      <td>8.1195</td>\n",
       "      <td>8.1962</td>\n",
       "      <td>0.3086</td>\n",
       "    </tr>\n",
       "    <tr>\n",
       "      <th>1</th>\n",
       "      <td>8.0021</td>\n",
       "      <td>8.5037</td>\n",
       "      <td>8.1111</td>\n",
       "      <td>8.1211</td>\n",
       "      <td>8.3705</td>\n",
       "      <td>8.4732</td>\n",
       "      <td>8.3868</td>\n",
       "      <td>1990-02-27</td>\n",
       "      <td>8.4247</td>\n",
       "      <td>8.4758</td>\n",
       "      <td>0.4711</td>\n",
       "    </tr>\n",
       "  </tbody>\n",
       "</table>\n",
       "</div>"
      ],
      "text/plain": [
       "       m3     y30      y1      m6      y2     y10      y3        time      y5  \\\n",
       "0  7.8981  8.2586  7.9210  7.9562  8.0852  8.2067  8.1324  1990-01-30  8.1195   \n",
       "1  8.0021  8.5037  8.1111  8.1211  8.3705  8.4732  8.3868  1990-02-27  8.4247   \n",
       "\n",
       "       y7  spread  \n",
       "0  8.1962  0.3086  \n",
       "1  8.4758  0.4711  "
      ]
     },
     "execution_count": 6,
     "metadata": {},
     "output_type": "execute_result"
    }
   ],
   "source": [
    "beakerx.runtime.pandas_display_default()\n",
    "pd.read_csv('demoResources/interest-rates2.csv')"
   ]
  },
  {
   "cell_type": "markdown",
   "metadata": {},
   "source": [
    "### Display mode: TableDisplay Widget"
   ]
  },
  {
   "cell_type": "code",
   "execution_count": 7,
   "metadata": {
    "collapsed": true
   },
   "outputs": [],
   "source": [
    "beakerx.runtime.pandas_display_table()\n",
    "pd.read_csv('demoResources/interest-rates2.csv')"
   ]
  },
  {
   "cell_type": "code",
   "execution_count": null,
   "metadata": {
    "collapsed": true
   },
   "outputs": [],
   "source": []
  }
 ],
 "metadata": {
  "kernelspec": {
   "display_name": "Python 3",
   "language": "python",
   "name": "python3"
  },
  "language_info": {
   "codemirror_mode": {
    "name": "ipython",
    "version": 3
   },
   "file_extension": ".py",
   "mimetype": "text/x-python",
   "name": "python",
   "nbconvert_exporter": "python",
   "pygments_lexer": "ipython3",
   "version": "3.5.4"
  }
 },
 "nbformat": 4,
 "nbformat_minor": 2
}

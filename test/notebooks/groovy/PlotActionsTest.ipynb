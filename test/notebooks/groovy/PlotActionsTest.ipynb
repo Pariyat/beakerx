{
 "cells": [
  {
   "cell_type": "code",
   "execution_count": 1,
   "metadata": {},
   "outputs": [
    {
     "data": {
      "application/vnd.jupyter.widget-view+json": {
       "model_id": "e3cafc0d-cadf-46f5-810f-23ab92e34178",
       "version_major": 2,
       "version_minor": 0
      },
      "method": "display_data"
     },
     "metadata": {},
     "output_type": "display_data"
    }
   ],
   "source": [
    "barsPlot = new Plot(useToolTip: false);\n",
    "barsPlot << new Bars(x: (1..5), y: [5, 2, 4, 3, 7], )\n",
    "        .onKey(KeyboardCodes.SHIFT, {info -> info.graphics.y[info.index]++})\n",
    "        .onKey(\"T\", \"tag1\")\n",
    "        .onKey(\"K\", {info -> info.graphics.y[info.index]--;\n",
    "                     beakerx.runByTag(\"tag1\")\n",
    "              })"
   ]
  },
  {
   "cell_type": "code",
   "execution_count": 3,
   "metadata": {
    "tags": [
     "tag1"
    ]
   },
   "outputs": [
    {
     "name": "stdout",
     "output_type": "stream",
     "text": [
      "3:3\n"
     ]
    },
    {
     "data": {
      "text/plain": [
       "null"
      ]
     },
     "execution_count": 3,
     "metadata": {},
     "output_type": "execute_result"
    }
   ],
   "source": [
    "def details = barsPlot.details\n",
    "def item = details.graphics\n",
    "def index = details.index\n",
    "println (item.x[index] + \":\" + item.y[index])"
   ]
  },
  {
   "cell_type": "code",
   "execution_count": 4,
   "metadata": {},
   "outputs": [
    {
     "data": {
      "application/vnd.jupyter.widget-view+json": {
       "model_id": "688316ab-adad-4b90-bb13-a3834cf1a514",
       "version_major": 2,
       "version_minor": 0
      },
      "method": "display_data"
     },
     "metadata": {},
     "output_type": "display_data"
    }
   ],
   "source": [
    "barsPlot2 = new Plot(useToolTip: false);\n",
    "barsPlot2 << new Bars(x: (1..5), y: [5, 2, 4, 3, 7], )\n",
    "        .onClick({info -> info.graphics.y[info.index]++;\n",
    "                beakerx.runByTag(\"tag2\")\n",
    "        })"
   ]
  },
  {
   "cell_type": "code",
   "execution_count": 6,
   "metadata": {
    "tags": [
     "tag2"
    ]
   },
   "outputs": [
    {
     "name": "stdout",
     "output_type": "stream",
     "text": [
      "2:3\n"
     ]
    },
    {
     "data": {
      "text/plain": [
       "null"
      ]
     },
     "execution_count": 6,
     "metadata": {},
     "output_type": "execute_result"
    }
   ],
   "source": [
    "def details2 = barsPlot2.details\n",
    "def item2 = details2.graphics\n",
    "def index2 = details2.index\n",
    "println (item2.x[index2] + \":\" + item2.y[index2])"
   ]
  },
  {
   "cell_type": "code",
   "execution_count": 7,
   "metadata": {},
   "outputs": [
    {
     "data": {
      "application/vnd.jupyter.widget-view+json": {
       "model_id": "4f23d63c-1e75-4663-bb1b-06a7c74681e4",
       "version_major": 2,
       "version_minor": 0
      },
      "method": "display_data"
     },
     "metadata": {},
     "output_type": "display_data"
    }
   ],
   "source": [
    "barsPlot3 = new Plot(useToolTip: false);\n",
    "barsPlot3 << new Bars(x: (1..5), y: [5, 2, 4, 3, 7], ).onClick(\"tag3\")"
   ]
  },
  {
   "cell_type": "code",
   "execution_count": 8,
   "metadata": {
    "tags": [
     "tag3"
    ]
   },
   "outputs": [
    {
     "name": "stdout",
     "output_type": "stream",
     "text": [
      "1:5\n"
     ]
    },
    {
     "data": {
      "text/plain": [
       "null"
      ]
     },
     "execution_count": 8,
     "metadata": {},
     "output_type": "execute_result"
    }
   ],
   "source": [
    "def details3 = barsPlot3.details\n",
    "def item3 = details3.graphics\n",
    "def index3 = details3.index\n",
    "println (item3.x[index3] + \":\" + item3.y[index3])"
   ]
  }
 ],
 "metadata": {
  "celltoolbar": "Tags",
  "kernelspec": {
   "display_name": "Groovy",
   "language": "groovy",
   "name": "groovy"
  },
  "language_info": {
   "codemirror_mode": "groovy",
   "file_extension": ".groovy",
   "mimetype": "",
   "name": "Groovy",
   "nbconverter_exporter": "",
   "version": "2.4.3"
  }
 },
 "nbformat": 4,
 "nbformat_minor": 2
}

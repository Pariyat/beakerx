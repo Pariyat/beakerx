{
 "cells": [
  {
   "cell_type": "code",
   "execution_count": 1,
   "metadata": {},
   "outputs": [
    {
     "data": {},
     "metadata": {},
     "output_type": "display_data"
    }
   ],
   "source": [
    "f1 = new EasyForm(\"Legend name\")\n",
    "f1"
   ]
  },
  {
   "cell_type": "code",
   "execution_count": 2,
   "metadata": {},
   "outputs": [
    {
     "data": {},
     "metadata": {},
     "output_type": "display_data"
    }
   ],
   "source": [
    "f2 = new EasyForm(\"form2\")\n",
    "f2.addTextField(\"field name2\")\n",
    "f2"
   ]
  },
  {
   "cell_type": "code",
   "execution_count": 3,
   "metadata": {},
   "outputs": [
    {
     "data": {},
     "metadata": {},
     "output_type": "display_data"
    }
   ],
   "source": [
    "f3 = new EasyForm(\"form3\")\n",
    "f3.addTextArea(\"field name3\")\n",
    "f3"
   ]
  },
  {
   "cell_type": "code",
   "execution_count": 4,
   "metadata": {},
   "outputs": [
    {
     "data": {},
     "metadata": {},
     "output_type": "display_data"
    }
   ],
   "source": [
    "f4 = new EasyForm(\"form4\")\n",
    "f4.addCheckBox(\"field name4\")\n",
    "f4"
   ]
  },
  {
   "cell_type": "code",
   "execution_count": 5,
   "metadata": {},
   "outputs": [
    {
     "data": {},
     "metadata": {},
     "output_type": "display_data"
    }
   ],
   "source": [
    "f5 = new EasyForm(\"form5\")\n",
    "f5.addComboBox(\"field name5\", [\"one\", \"two\", \"three\"])\n",
    "f5"
   ]
  },
  {
   "cell_type": "code",
   "execution_count": 6,
   "metadata": {},
   "outputs": [
    {
     "data": {},
     "metadata": {},
     "output_type": "display_data"
    }
   ],
   "source": [
    "f6 = new EasyForm(\"form6\")\n",
    "f6.addList(\"field name6\", [\"one\", \"two\", \"three\"])\n",
    "f6"
   ]
  },
  {
   "cell_type": "code",
   "execution_count": 7,
   "metadata": {},
   "outputs": [
    {
     "data": {},
     "metadata": {},
     "output_type": "display_data"
    }
   ],
   "source": [
    "f7 = new EasyForm(\"form7\")\n",
    "f7.addCheckBoxes(\"field name7\", [\"one\", \"two\", \"three\"])\n",
    "f7"
   ]
  },
  {
   "cell_type": "code",
   "execution_count": 8,
   "metadata": {},
   "outputs": [
    {
     "data": {},
     "metadata": {},
     "output_type": "display_data"
    }
   ],
   "source": [
    "f8 = new EasyForm(\"form8\")\n",
    "f8.addRadioButtons(\"field name8\", [\"one\", \"two\", \"three\"])\n",
    "f8"
   ]
  },
  {
   "cell_type": "code",
   "execution_count": 9,
   "metadata": {},
   "outputs": [
    {
     "data": {},
     "metadata": {},
     "output_type": "display_data"
    }
   ],
   "source": [
    "f9 = new EasyForm(\"form9\")\n",
    "f9.addDatePicker(\"field name9\")\n",
    "f9"
   ]
  },
  {
   "cell_type": "code",
   "execution_count": 10,
   "metadata": {},
   "outputs": [
    {
     "data": {},
     "metadata": {},
     "output_type": "display_data"
    }
   ],
   "source": [
    "f10 = new EasyForm(\"form10\")\n",
    "f10.addButton(\"run tag\", \"tag1\")\n",
    "button11 = f10.addButton(\"actionPerformed\")\n",
    "button11.actionPerformed = { f11[\"field4\"] = \"from actionPerformed\"}\n",
    "f10"
   ]
  },
  {
   "cell_type": "code",
   "execution_count": 12,
   "metadata": {},
   "outputs": [
    {
     "data": {
      "text/plain": [
       "test text"
      ]
     },
     "execution_count": 12,
     "metadata": {},
     "output_type": "execute_result"
    }
   ],
   "source": [
    "f11['field2'] = \"test text\""
   ]
  },
  {
   "cell_type": "code",
   "execution_count": 11,
   "metadata": {
    "tags": [
     "tag1"
    ]
   },
   "outputs": [
    {
     "data": {},
     "metadata": {},
     "output_type": "display_data"
    }
   ],
   "source": [
    "f11 = new EasyForm(\"form11\")\n",
    "f11.addTextField(\"field1\").onInit({f11['field1'] = \"from onInit\"})\n",
    "f11.addTextField(\"field2\").onChange({text -> f11['field3'] = text + \" from onChange\"})\n",
    "f11.addTextField(\"field3\")\n",
    "f11.addTextField(\"field4\")\n",
    "f11"
   ]
  },
  {
   "cell_type": "code",
   "execution_count": 13,
   "metadata": {},
   "outputs": [
    {
     "data": {},
     "metadata": {},
     "output_type": "display_data"
    }
   ],
   "source": [
    "import com.twosigma.beakerx.widgets.integers.IntSlider\n",
    "w = new IntSlider()\n",
    "w.value = 50\n",
    "\n",
    "f12 = new EasyForm(\"form12\")\n",
    "f12.addWidget(\"slider12\",w)\n",
    "f12"
   ]
  },
  {
   "cell_type": "code",
   "execution_count": 14,
   "metadata": {},
   "outputs": [
    {
     "data": {
      "text/plain": [
       "50"
      ]
     },
     "execution_count": 14,
     "metadata": {},
     "output_type": "execute_result"
    }
   ],
   "source": [
    "f12[\"slider12\"]"
   ]
  },
  {
   "cell_type": "code",
   "execution_count": null,
   "metadata": {
    "collapsed": true
   },
   "outputs": [],
   "source": [
    ""
   ]
  }
 ],
 "metadata": {
  "celltoolbar": "Tags",
  "kernelspec": {
   "display_name": "Groovy",
   "language": "groovy",
   "name": "groovy"
  },
  "language_info": {
   "codemirror_mode": "groovy",
   "file_extension": ".groovy",
   "mimetype": "",
   "name": "Groovy",
   "nbconverter_exporter": "",
   "version": "2.4.3"
  }
 },
 "nbformat": 4,
 "nbformat_minor": 0
}

{
 "cells": [
  {
   "cell_type": "code",
   "execution_count": 18,
   "metadata": {},
   "outputs": [
    {
     "data": {
      "application/vnd.jupyter.widget-view+json": {
       "model_id": "cc8e6673e28a49679c5a1fdb156a0298",
       "version_major": 2,
       "version_minor": 0
      },
      "text/html": [
       "<p>Failed to display Jupyter Widget of type <code>Plot</code>.</p>\n",
       "<p>\n",
       "  If you're reading this message in Jupyter Notebook or JupyterLab, it may mean\n",
       "  that the widgets JavaScript is still loading. If this message persists, it\n",
       "  likely means that the widgets JavaScript library is either not installed or\n",
       "  not enabled. See the <a href=\"https://ipywidgets.readthedocs.io/en/stable/user_install.html\">Jupyter\n",
       "  Widgets Documentation</a> for setup instructions.\n",
       "</p>\n",
       "<p>\n",
       "  If you're reading this message in another notebook frontend (for example, a static\n",
       "  rendering on GitHub or <a href=\"https://nbviewer.jupyter.org/\">NBViewer</a>),\n",
       "  it may mean that your frontend doesn't currently support widgets.\n",
       "</p>\n"
      ],
      "text/plain": [
       "Plot(model={'constant_lines': [], 'log_x': False, 'x_upper_margin': 0.05, 'rangeAxes': [{'lower_margin': 0.05, 'label': '', 'auto_range_includes_zero': False, 'log_base': 10.0, 'use_log': False, 'type': 'YAxis', 'auto_range': True, 'upper_bound': 0.0, 'upper_margin': 0.05, 'lower_bound': 0.0}], 'type': 'Plot', 'log_y': False, 'init_height': 480, 'chart_title': 'test title', 'x_log_base': 10, 'init_width': 640, 'legend_layout': 'VERTICAL', 'x_upper_bound': 0, 'constant_bands': [], 'use_tool_tip': True, 'graphics_list': [], 'y_label': 'y label', 'omit_checkboxes': False, 'texts': [], 'legend_position': {'position': 'TOP_RIGHT'}, 'domain_axis_label': 'x label', 'x_auto_range': True, 'x_lower_bound': 0, 'x_lower_margin': 0.05})"
      ]
     },
     "metadata": {},
     "output_type": "display_data"
    }
   ],
   "source": [
    "from beakerx import *\n",
    "Plot(title=\"test title\",\n",
    "     xLabel=\"x label\",\n",
    "     yLabel=\"y label\")"
   ]
  },
  {
   "cell_type": "code",
   "execution_count": 19,
   "metadata": {},
   "outputs": [
    {
     "data": {
      "application/vnd.jupyter.widget-view+json": {
       "model_id": "e26f26db497541a5a4cff727b80da287",
       "version_major": 2,
       "version_minor": 0
      },
      "text/html": [
       "<p>Failed to display Jupyter Widget of type <code>Plot</code>.</p>\n",
       "<p>\n",
       "  If you're reading this message in Jupyter Notebook or JupyterLab, it may mean\n",
       "  that the widgets JavaScript is still loading. If this message persists, it\n",
       "  likely means that the widgets JavaScript library is either not installed or\n",
       "  not enabled. See the <a href=\"https://ipywidgets.readthedocs.io/en/stable/user_install.html\">Jupyter\n",
       "  Widgets Documentation</a> for setup instructions.\n",
       "</p>\n",
       "<p>\n",
       "  If you're reading this message in another notebook frontend (for example, a static\n",
       "  rendering on GitHub or <a href=\"https://nbviewer.jupyter.org/\">NBViewer</a>),\n",
       "  it may mean that your frontend doesn't currently support widgets.\n",
       "</p>\n"
      ],
      "text/plain": [
       "Plot(model={'x_upper_bound': 0, 'constant_lines': [], 'constant_bands': [], 'init_width': 640, 'log_x': False, 'x_upper_margin': 0.05, 'graphics_list': [{'display_name': 'Bar', 'base': 0, 'width': 10, 'y': [100, 120, 90], 'type': 'Bars', 'x': [20, 40, 60], 'visible': True, 'hasClickAction': False}], 'type': 'Plot', 'log_y': False, 'legend_position': {'position': 'TOP_RIGHT'}, 'init_height': 480, 'omit_checkboxes': False, 'x_lower_margin': 0.05, 'texts': [], 'x_log_base': 10, 'rangeAxes': [{'lower_margin': 0.05, 'label': '', 'auto_range_includes_zero': False, 'log_base': 10.0, 'use_log': False, 'type': 'YAxis', 'auto_range': True, 'upper_bound': 0.0, 'upper_margin': 0.05, 'lower_bound': 0.0}], 'use_tool_tip': True, 'x_auto_range': True, 'x_lower_bound': 0, 'legend_layout': 'VERTICAL'})"
      ]
     },
     "metadata": {},
     "output_type": "display_data"
    }
   ],
   "source": [
    "plot1 = Plot()\n",
    "plot1.add(Bars(displayName=\"Bar\", \n",
    "       x=[20,40,60], \n",
    "       y=[100, 120, 90], \n",
    "       width=10))"
   ]
  },
  {
   "cell_type": "code",
   "execution_count": 20,
   "metadata": {},
   "outputs": [
    {
     "data": {
      "application/vnd.jupyter.widget-view+json": {
       "model_id": "e74b325df91941ada9e2c20ed2bcd0af",
       "version_major": 2,
       "version_minor": 0
      },
      "text/html": [
       "<p>Failed to display Jupyter Widget of type <code>Plot</code>.</p>\n",
       "<p>\n",
       "  If you're reading this message in Jupyter Notebook or JupyterLab, it may mean\n",
       "  that the widgets JavaScript is still loading. If this message persists, it\n",
       "  likely means that the widgets JavaScript library is either not installed or\n",
       "  not enabled. See the <a href=\"https://ipywidgets.readthedocs.io/en/stable/user_install.html\">Jupyter\n",
       "  Widgets Documentation</a> for setup instructions.\n",
       "</p>\n",
       "<p>\n",
       "  If you're reading this message in another notebook frontend (for example, a static\n",
       "  rendering on GitHub or <a href=\"https://nbviewer.jupyter.org/\">NBViewer</a>),\n",
       "  it may mean that your frontend doesn't currently support widgets.\n",
       "</p>\n"
      ],
      "text/plain": [
       "Plot(model={'x_upper_bound': 0, 'constant_lines': [], 'constant_bands': [], 'init_width': 640, 'log_x': False, 'x_upper_margin': 0.05, 'graphics_list': [{'width': 1.5, 'y': [1, 2, 6], 'type': 'Line', 'x': [1, 5, 3], 'visible': True, 'hasClickAction': False}], 'type': 'Plot', 'log_y': False, 'legend_position': {'position': 'TOP_RIGHT'}, 'init_height': 480, 'omit_checkboxes': False, 'x_lower_margin': 0.05, 'texts': [], 'x_log_base': 10, 'rangeAxes': [{'lower_margin': 0.05, 'label': '', 'auto_range_includes_zero': False, 'log_base': 10.0, 'use_log': False, 'type': 'YAxis', 'auto_range': True, 'upper_bound': 0.0, 'upper_margin': 0.05, 'lower_bound': 0.0}], 'use_tool_tip': True, 'x_auto_range': True, 'x_lower_bound': 0, 'legend_layout': 'VERTICAL'})"
      ]
     },
     "metadata": {},
     "output_type": "display_data"
    }
   ],
   "source": [
    "plot2 = Plot()\n",
    "plot2.add(Line(x=[1, 5, 3], y=[1, 2, 6]))"
   ]
  },
  {
   "cell_type": "code",
   "execution_count": 21,
   "metadata": {},
   "outputs": [
    {
     "data": {
      "application/vnd.jupyter.widget-view+json": {
       "model_id": "f7ae256b409a4222bd2e3cdb09d704e2",
       "version_major": 2,
       "version_minor": 0
      },
      "text/html": [
       "<p>Failed to display Jupyter Widget of type <code>Plot</code>.</p>\n",
       "<p>\n",
       "  If you're reading this message in Jupyter Notebook or JupyterLab, it may mean\n",
       "  that the widgets JavaScript is still loading. If this message persists, it\n",
       "  likely means that the widgets JavaScript library is either not installed or\n",
       "  not enabled. See the <a href=\"https://ipywidgets.readthedocs.io/en/stable/user_install.html\">Jupyter\n",
       "  Widgets Documentation</a> for setup instructions.\n",
       "</p>\n",
       "<p>\n",
       "  If you're reading this message in another notebook frontend (for example, a static\n",
       "  rendering on GitHub or <a href=\"https://nbviewer.jupyter.org/\">NBViewer</a>),\n",
       "  it may mean that your frontend doesn't currently support widgets.\n",
       "</p>\n"
      ],
      "text/plain": [
       "Plot(model={'x_upper_bound': 0, 'constant_lines': [], 'constant_bands': [], 'init_width': 640, 'log_x': False, 'x_upper_margin': 0.05, 'graphics_list': [{'shape': 'DIAMOND', 'hasClickAction': False, 'y': [1, 3, 6, 3, 1], 'type': 'Points', 'size': 10, 'visible': True, 'x': [1, 2, 3, 4, 5]}], 'type': 'Plot', 'log_y': False, 'legend_position': {'position': 'TOP_RIGHT'}, 'init_height': 480, 'omit_checkboxes': False, 'x_lower_margin': 0.05, 'texts': [], 'x_log_base': 10, 'rangeAxes': [{'lower_margin': 0.05, 'label': '', 'auto_range_includes_zero': False, 'log_base': 10.0, 'use_log': False, 'type': 'YAxis', 'auto_range': True, 'upper_bound': 0.0, 'upper_margin': 0.05, 'lower_bound': 0.0}], 'use_tool_tip': True, 'x_auto_range': True, 'x_lower_bound': 0, 'legend_layout': 'VERTICAL'})"
      ]
     },
     "metadata": {},
     "output_type": "display_data"
    }
   ],
   "source": [
    "plot3 = Plot()\n",
    "plot3.add(Points(y=[1, 3, 6, 3, 1], \n",
    "              x=[1, 2, 3, 4, 5], \n",
    "              size=10, \n",
    "              shape=ShapeType.DIAMOND))"
   ]
  },
  {
   "cell_type": "code",
   "execution_count": 22,
   "metadata": {},
   "outputs": [
    {
     "data": {
      "application/vnd.jupyter.widget-view+json": {
       "model_id": "d00fde3b1d1c4d98a8be2a29a7785ecd",
       "version_major": 2,
       "version_minor": 0
      },
      "text/html": [
       "<p>Failed to display Jupyter Widget of type <code>Plot</code>.</p>\n",
       "<p>\n",
       "  If you're reading this message in Jupyter Notebook or JupyterLab, it may mean\n",
       "  that the widgets JavaScript is still loading. If this message persists, it\n",
       "  likely means that the widgets JavaScript library is either not installed or\n",
       "  not enabled. See the <a href=\"https://ipywidgets.readthedocs.io/en/stable/user_install.html\">Jupyter\n",
       "  Widgets Documentation</a> for setup instructions.\n",
       "</p>\n",
       "<p>\n",
       "  If you're reading this message in another notebook frontend (for example, a static\n",
       "  rendering on GitHub or <a href=\"https://nbviewer.jupyter.org/\">NBViewer</a>),\n",
       "  it may mean that your frontend doesn't currently support widgets.\n",
       "</p>\n"
      ],
      "text/plain": [
       "Plot(model={'x_upper_bound': 0, 'constant_lines': [], 'constant_bands': [], 'init_width': 640, 'log_x': False, 'x_upper_margin': 0.05, 'graphics_list': [{'base': 0, 'style': 'SOLID', 'width': 1.5, 'y': [1.5, 1, 6, 5], 'type': 'Stems', 'x': [0, 1, 2, 3], 'visible': True, 'hasClickAction': False}], 'type': 'Plot', 'log_y': False, 'legend_position': {'position': 'TOP_RIGHT'}, 'init_height': 480, 'omit_checkboxes': False, 'x_lower_margin': 0.05, 'texts': [], 'x_log_base': 10, 'rangeAxes': [{'lower_margin': 0.05, 'label': '', 'auto_range_includes_zero': False, 'log_base': 10.0, 'use_log': False, 'type': 'YAxis', 'auto_range': True, 'upper_bound': 0.0, 'upper_margin': 0.05, 'lower_bound': 0.0}], 'use_tool_tip': True, 'x_auto_range': True, 'x_lower_bound': 0, 'legend_layout': 'VERTICAL'})"
      ]
     },
     "metadata": {},
     "output_type": "display_data"
    }
   ],
   "source": [
    "plot4 = Plot();\n",
    "plot4.add(Stems(y= [1.5, 1, 6, 5]))"
   ]
  },
  {
   "cell_type": "code",
   "execution_count": 23,
   "metadata": {},
   "outputs": [
    {
     "data": {
      "application/vnd.jupyter.widget-view+json": {
       "model_id": "5e4ecdff0fe94f97abdbae19528acecb",
       "version_major": 2,
       "version_minor": 0
      },
      "text/html": [
       "<p>Failed to display Jupyter Widget of type <code>Plot</code>.</p>\n",
       "<p>\n",
       "  If you're reading this message in Jupyter Notebook or JupyterLab, it may mean\n",
       "  that the widgets JavaScript is still loading. If this message persists, it\n",
       "  likely means that the widgets JavaScript library is either not installed or\n",
       "  not enabled. See the <a href=\"https://ipywidgets.readthedocs.io/en/stable/user_install.html\">Jupyter\n",
       "  Widgets Documentation</a> for setup instructions.\n",
       "</p>\n",
       "<p>\n",
       "  If you're reading this message in another notebook frontend (for example, a static\n",
       "  rendering on GitHub or <a href=\"https://nbviewer.jupyter.org/\">NBViewer</a>),\n",
       "  it may mean that your frontend doesn't currently support widgets.\n",
       "</p>\n"
      ],
      "text/plain": [
       "Plot(model={'x_upper_bound': 0, 'constant_lines': [], 'constant_bands': [], 'init_width': 640, 'log_x': False, 'x_upper_margin': 0.05, 'graphics_list': [{'base': 0, 'y': [3, 5, 2, 3], 'type': 'Area', 'x': [0, 1, 2, 3], 'visible': True, 'hasClickAction': False}], 'type': 'Plot', 'log_y': False, 'legend_position': {'position': 'TOP_RIGHT'}, 'rangeAxes': [{'lower_margin': 0.05, 'label': '', 'auto_range_includes_zero': False, 'log_base': 10.0, 'use_log': False, 'type': 'YAxis', 'auto_range': True, 'upper_bound': 0.0, 'upper_margin': 0.05, 'lower_bound': 0.0}], 'init_height': 480, 'omit_checkboxes': False, 'x_lower_margin': 0.05, 'texts': [], 'crosshair': {'base': 0, 'type': 'Crosshair', 'x': [], 'visible': True, 'hasClickAction': False}, 'x_log_base': 10, 'use_tool_tip': True, 'x_auto_range': True, 'x_lower_bound': 0, 'legend_layout': 'VERTICAL'})"
      ]
     },
     "metadata": {},
     "output_type": "display_data"
    }
   ],
   "source": [
    "plot5 = Plot(crosshair = Crosshair())\n",
    "plot5.add(Area(x = [0, 1, 2, 3], y = [3, 5, 2, 3]))"
   ]
  },
  {
   "cell_type": "code",
   "execution_count": 24,
   "metadata": {},
   "outputs": [
    {
     "data": {
      "application/vnd.jupyter.widget-view+json": {
       "model_id": "06ce180ac5aa4833a9ca4ce15960f872",
       "version_major": 2,
       "version_minor": 0
      },
      "text/html": [
       "<p>Failed to display Jupyter Widget of type <code>Plot</code>.</p>\n",
       "<p>\n",
       "  If you're reading this message in Jupyter Notebook or JupyterLab, it may mean\n",
       "  that the widgets JavaScript is still loading. If this message persists, it\n",
       "  likely means that the widgets JavaScript library is either not installed or\n",
       "  not enabled. See the <a href=\"https://ipywidgets.readthedocs.io/en/stable/user_install.html\">Jupyter\n",
       "  Widgets Documentation</a> for setup instructions.\n",
       "</p>\n",
       "<p>\n",
       "  If you're reading this message in another notebook frontend (for example, a static\n",
       "  rendering on GitHub or <a href=\"https://nbviewer.jupyter.org/\">NBViewer</a>),\n",
       "  it may mean that your frontend doesn't currently support widgets.\n",
       "</p>\n"
      ],
      "text/plain": [
       "Plot(model={'x_upper_bound': 0, 'constant_lines': [{'width': 1.5, 'y': 0.1, 'type': 'ConstantLine', 'visible': True, 'hasClickAction': False}, {'showLabel': True, 'color': '#ff808080', 'width': 1.5, 'y': 0.4, 'type': 'ConstantLine', 'x': 0.3, 'visible': True, 'hasClickAction': False}], 'constant_bands': [], 'init_width': 640, 'log_x': False, 'x_upper_margin': 0.05, 'graphics_list': [], 'type': 'Plot', 'log_y': False, 'legend_position': {'position': 'TOP_RIGHT'}, 'init_height': 480, 'omit_checkboxes': False, 'x_lower_margin': 0.05, 'texts': [], 'x_log_base': 10, 'rangeAxes': [{'lower_margin': 0.05, 'label': '', 'auto_range_includes_zero': False, 'log_base': 10.0, 'use_log': False, 'type': 'YAxis', 'auto_range': True, 'upper_bound': 0.0, 'upper_margin': 0.05, 'lower_bound': 0.0}], 'use_tool_tip': True, 'x_auto_range': True, 'x_lower_bound': 0, 'legend_layout': 'VERTICAL'})"
      ]
     },
     "metadata": {},
     "output_type": "display_data"
    }
   ],
   "source": [
    "Plot().add(ConstantLine(y=0.1)).add(ConstantLine(x=0.3, y=0.4, color=Color.gray, showLabel=True))"
   ]
  },
  {
   "cell_type": "code",
   "execution_count": 25,
   "metadata": {},
   "outputs": [
    {
     "data": {
      "application/vnd.jupyter.widget-view+json": {
       "model_id": "35e22102c4e742929a31dd162d8e5841",
       "version_major": 2,
       "version_minor": 0
      },
      "text/html": [
       "<p>Failed to display Jupyter Widget of type <code>Plot</code>.</p>\n",
       "<p>\n",
       "  If you're reading this message in Jupyter Notebook or JupyterLab, it may mean\n",
       "  that the widgets JavaScript is still loading. If this message persists, it\n",
       "  likely means that the widgets JavaScript library is either not installed or\n",
       "  not enabled. See the <a href=\"https://ipywidgets.readthedocs.io/en/stable/user_install.html\">Jupyter\n",
       "  Widgets Documentation</a> for setup instructions.\n",
       "</p>\n",
       "<p>\n",
       "  If you're reading this message in another notebook frontend (for example, a static\n",
       "  rendering on GitHub or <a href=\"https://nbviewer.jupyter.org/\">NBViewer</a>),\n",
       "  it may mean that your frontend doesn't currently support widgets.\n",
       "</p>\n"
      ],
      "text/plain": [
       "Plot(model={'x_upper_bound': 0, 'constant_lines': [], 'constant_bands': [{'color': '#7f007fff', 'y': [1, 3], 'type': 'ConstantBand', 'x': [1, 2], 'visible': True, 'hasClickAction': False}], 'init_width': 640, 'log_x': False, 'x_upper_margin': 0.05, 'graphics_list': [{'width': 1.5, 'y': [-3, 1, 3, 4, 5], 'type': 'Line', 'x': [0, 1, 2, 3, 4], 'visible': True, 'hasClickAction': False}], 'type': 'Plot', 'log_y': False, 'legend_position': {'position': 'TOP_RIGHT'}, 'init_height': 480, 'omit_checkboxes': False, 'x_lower_margin': 0.05, 'texts': [], 'x_log_base': 10, 'rangeAxes': [{'lower_margin': 0.05, 'label': '', 'auto_range_includes_zero': False, 'log_base': 10.0, 'use_log': False, 'type': 'YAxis', 'auto_range': True, 'upper_bound': 0.0, 'upper_margin': 0.05, 'lower_bound': 0.0}], 'use_tool_tip': True, 'x_auto_range': True, 'x_lower_bound': 0, 'legend_layout': 'VERTICAL'})"
      ]
     },
     "metadata": {},
     "output_type": "display_data"
    }
   ],
   "source": [
    "Plot().add(Line(y=[-3, 1, 3, 4, 5])).add(ConstantBand(x=[1, 2], y=[1, 3]))"
   ]
  },
  {
   "cell_type": "code",
   "execution_count": 26,
   "metadata": {},
   "outputs": [
    {
     "data": {
      "application/vnd.jupyter.widget-view+json": {
       "model_id": "50b28af5b5e24067aeaac013b0b58579",
       "version_major": 2,
       "version_minor": 0
      },
      "text/html": [
       "<p>Failed to display Jupyter Widget of type <code>Plot</code>.</p>\n",
       "<p>\n",
       "  If you're reading this message in Jupyter Notebook or JupyterLab, it may mean\n",
       "  that the widgets JavaScript is still loading. If this message persists, it\n",
       "  likely means that the widgets JavaScript library is either not installed or\n",
       "  not enabled. See the <a href=\"https://ipywidgets.readthedocs.io/en/stable/user_install.html\">Jupyter\n",
       "  Widgets Documentation</a> for setup instructions.\n",
       "</p>\n",
       "<p>\n",
       "  If you're reading this message in another notebook frontend (for example, a static\n",
       "  rendering on GitHub or <a href=\"https://nbviewer.jupyter.org/\">NBViewer</a>),\n",
       "  it may mean that your frontend doesn't currently support widgets.\n",
       "</p>\n"
      ],
      "text/plain": [
       "Plot(model={'x_upper_bound': 0, 'constant_lines': [], 'constant_bands': [], 'init_width': 640, 'log_x': False, 'x_upper_margin': 0.05, 'graphics_list': [{'width': 1.5, 'y': [8.6, 6.1, 7.4, 2.5], 'type': 'Line', 'x': [1, 2, 3, 4], 'visible': True, 'hasClickAction': False}], 'type': 'Plot', 'log_y': False, 'legend_position': {'position': 'TOP_RIGHT'}, 'init_height': 480, 'omit_checkboxes': False, 'x_lower_margin': 0.05, 'texts': [{'show_pointer': True, 'text': 'test', 'y': 8.6, 'pointer_angle': -0.7853981633974483, 'type': 'Text', 'size': 13, 'x': 1}, {'show_pointer': True, 'text': 'test', 'y': 6.1, 'pointer_angle': -0.7853981633974483, 'type': 'Text', 'size': 13, 'x': 2}, {'show_pointer': True, 'text': 'test', 'y': 7.4, 'pointer_angle': -0.7853981633974483, 'type': 'Text', 'size': 13, 'x': 3}, {'show_pointer': True, 'text': 'test', 'y': 2.5, 'pointer_angle': -0.7853981633974483, 'type': 'Text', 'size': 13, 'x': 4}], 'x_log_base': 10, 'rangeAxes': [{'lower_margin': 0.05, 'label': '', 'auto_range_includes_zero': False, 'log_base': 10.0, 'use_log': False, 'type': 'YAxis', 'auto_range': True, 'upper_bound': 0.0, 'upper_margin': 0.05, 'lower_bound': 0.0}], 'use_tool_tip': True, 'x_auto_range': True, 'x_lower_bound': 0, 'legend_layout': 'VERTICAL'})"
      ]
     },
     "metadata": {},
     "output_type": "display_data"
    }
   ],
   "source": [
    "from beakerx.plot import Text as BeakerxText\n",
    "plot = Plot()\n",
    "xs = [1, 2, 3, 4]\n",
    "ys = [8.6, 6.1, 7.4, 2.5]\n",
    "\n",
    "for i in range(0, 4):\n",
    "    plot.add(BeakerxText(x= xs[i], y= ys[i], text= 'test'))\n",
    "\n",
    "plot.add(Line(x= xs, y= ys))"
   ]
  },
  {
   "cell_type": "code",
   "execution_count": 27,
   "metadata": {},
   "outputs": [
    {
     "data": {
      "application/vnd.jupyter.widget-view+json": {
       "model_id": "3b7a03405c854988b3c98019c04f297f",
       "version_major": 2,
       "version_minor": 0
      },
      "text/html": [
       "<p>Failed to display Jupyter Widget of type <code>Plot</code>.</p>\n",
       "<p>\n",
       "  If you're reading this message in Jupyter Notebook or JupyterLab, it may mean\n",
       "  that the widgets JavaScript is still loading. If this message persists, it\n",
       "  likely means that the widgets JavaScript library is either not installed or\n",
       "  not enabled. See the <a href=\"https://ipywidgets.readthedocs.io/en/stable/user_install.html\">Jupyter\n",
       "  Widgets Documentation</a> for setup instructions.\n",
       "</p>\n",
       "<p>\n",
       "  If you're reading this message in another notebook frontend (for example, a static\n",
       "  rendering on GitHub or <a href=\"https://nbviewer.jupyter.org/\">NBViewer</a>),\n",
       "  it may mean that your frontend doesn't currently support widgets.\n",
       "</p>\n"
      ],
      "text/plain": [
       "Plot(model={'x_upper_bound': 0, 'constant_lines': [], 'constant_bands': [], 'init_width': 640, 'log_x': False, 'x_upper_margin': 0.05, 'graphics_list': [{'base': 0, 'y': [7.921, 8.1111, 8.35, 8.4045, 8.3164, 8.0962, 7.941, 7.7791, 7.7632, 7.5514, 7.3135, 7.0505, 6.6443, 6.2668, 6.396, 6.2359, 6.1305, 6.3585, 6.3055, 5.7782, 5.5725, 5.3336, 4.8895, 4.3781, 4.151, 4.2874, 4.6345, 4.299, 4.1895, 4.1659, 3.5959, 3.4719, 3.1843, 3.3024, 3.6821, 3.7114, 3.4963, 3.3858, 3.333, 3.2443, 3.3635, 3.5364, 3.4748, 3.4436, 3.3562, 3.392, 3.579, 3.6073, 3.5425, 3.8658, 4.3191, 4.8158, 5.3143, 5.2673, 5.4765, 5.5622, 5.7629, 6.1145, 6.54, 7.1362, 7.0505, 6.6968, 6.4317, 6.2658, 5.9977, 5.6423, 5.594, 5.7526, 5.62, 5.5905, 5.4329, 5.307, 5.0876, 4.942, 5.3424, 5.5377, 5.6368, 5.81, 5.8509, 5.6668, 5.833, 5.55, 5.4232, 5.4719, 5.6124, 5.5253, 5.7955, 5.9882, 5.8695, 5.6919, 5.5418, 5.5648, 5.5238, 5.4564, 5.4572, 5.525, 5.2445, 5.3084, 5.3895, 5.379, 5.44, 5.4086, 5.3582, 5.2052, 4.711, 4.1214, 4.5253, 4.5186, 4.5142, 4.7026, 4.7813, 4.69, 4.849, 5.0968, 5.0319, 5.1977, 5.2514, 5.429, 5.5535, 5.8423, 6.1215, 6.218, 6.2222, 6.1505, 6.3264, 6.1727, 6.0825, 6.183, 6.1255, 6.0124, 6.0919, 5.6025, 4.8148, 4.6842, 4.2986, 3.9765, 3.7814, 3.5762, 3.6171, 3.4704, 2.8247, 2.3305, 2.182, 2.2155, 2.1586, 2.2326, 2.567, 2.4759, 2.3541, 2.1965, 1.9609, 1.7573, 1.715, 1.65, 1.4916, 1.45, 1.3643, 1.2963, 1.24, 1.2671, 1.1814, 1.0095, 1.1164, 1.3086, 1.2376, 1.2541, 1.3367, 1.3059, 1.2395, 1.2437, 1.1874, 1.4338, 1.7775, 2.1152, 2.0952, 2.0159, 2.1167, 2.228, 2.5, 2.6705, 2.8605, 3.0295, 3.3023, 3.3167, 3.331, 3.3632, 3.641, 3.8722, 3.8452, 4.1755, 4.334, 4.3529, 4.445, 4.6847, 4.7735, 4.8974, 4.995, 5.155, 5.2175, 5.0826, 4.9745, 5.01, 5.011, 4.9415, 5.0571, 5.0537, 4.9205, 4.9324, 4.9091, 4.9624, 4.9643, 4.4722, 4.1368, 4.0968, 3.499, 3.263, 2.7114, 2.0535, 1.544, 1.7382, 2.0557, 2.4195, 2.2818, 2.1771, 1.9129, 1.4205, 1.0667, 0.4945, 0.4445, 0.6226, 0.6441, 0.5476, 0.5015, 0.5136, 0.4786, 0.459, 0.4048, 0.3748, 0.3132, 0.3714, 0.3458, 0.3458, 0.3957, 0.445, 0.371, 0.3182, 0.2914, 0.2591, 0.2567, 0.228, 0.252, 0.2941, 0.2735, 0.2863, 0.2591, 0.2465, 0.1881, 0.1809, 0.185, 0.1148, 0.1048, 0.1145, 0.112, 0.1152, 0.115, 0.161, 0.19, 0.1833, 0.1918, 0.189, 0.1857, 0.1835, 0.1758, 0.1795, 0.1785, 0.1585, 0.1452, 0.1574, 0.1475, 0.1245, 0.1186, 0.142, 0.1218, 0.1268, 0.1185, 0.1214, 0.1216, 0.1329, 0.1162, 0.1168, 0.1281, 0.1076, 0.0967, 0.1048, 0.1114, 0.1071, 0.1095, 0.1045, 0.1344, 0.2145, 0.1955, 0.2242, 0.2536, 0.2336, 0.241, 0.2755, 0.2968, 0.3757, 0.3733, 0.2633, 0.4768, 0.6536, 0.61], 'type': 'Bars', 'x': [0, 1, 2, 3, 4, 5, 6, 7, 8, 9, 10, 11, 12, 13, 14, 15, 16, 17, 18, 19, 20, 21, 22, 23, 24, 25, 26, 27, 28, 29, 30, 31, 32, 33, 34, 35, 36, 37, 38, 39, 40, 41, 42, 43, 44, 45, 46, 47, 48, 49, 50, 51, 52, 53, 54, 55, 56, 57, 58, 59, 60, 61, 62, 63, 64, 65, 66, 67, 68, 69, 70, 71, 72, 73, 74, 75, 76, 77, 78, 79, 80, 81, 82, 83, 84, 85, 86, 87, 88, 89, 90, 91, 92, 93, 94, 95, 96, 97, 98, 99, 100, 101, 102, 103, 104, 105, 106, 107, 108, 109, 110, 111, 112, 113, 114, 115, 116, 117, 118, 119, 120, 121, 122, 123, 124, 125, 126, 127, 128, 129, 130, 131, 132, 133, 134, 135, 136, 137, 138, 139, 140, 141, 142, 143, 144, 145, 146, 147, 148, 149, 150, 151, 152, 153, 154, 155, 156, 157, 158, 159, 160, 161, 162, 163, 164, 165, 166, 167, 168, 169, 170, 171, 172, 173, 174, 175, 176, 177, 178, 179, 180, 181, 182, 183, 184, 185, 186, 187, 188, 189, 190, 191, 192, 193, 194, 195, 196, 197, 198, 199, 200, 201, 202, 203, 204, 205, 206, 207, 208, 209, 210, 211, 212, 213, 214, 215, 216, 217, 218, 219, 220, 221, 222, 223, 224, 225, 226, 227, 228, 229, 230, 231, 232, 233, 234, 235, 236, 237, 238, 239, 240, 241, 242, 243, 244, 245, 246, 247, 248, 249, 250, 251, 252, 253, 254, 255, 256, 257, 258, 259, 260, 261, 262, 263, 264, 265, 266, 267, 268, 269, 270, 271, 272, 273, 274, 275, 276, 277, 278, 279, 280, 281, 282, 283, 284, 285, 286, 287, 288, 289, 290, 291, 292, 293, 294, 295, 296, 297, 298, 299, 300, 301, 302, 303, 304, 305, 306, 307, 308, 309, 310, 311, 312], 'visible': True, 'hasClickAction': False}], 'type': 'Plot', 'log_y': False, 'legend_position': {'position': 'TOP_RIGHT'}, 'init_height': 480, 'omit_checkboxes': False, 'x_lower_margin': 0.05, 'texts': [], 'x_log_base': 10, 'rangeAxes': [{'lower_margin': 0.05, 'label': '', 'auto_range_includes_zero': False, 'log_base': 10.0, 'use_log': False, 'type': 'YAxis', 'auto_range': True, 'upper_bound': 0.0, 'upper_margin': 0.05, 'lower_bound': 0.0}], 'use_tool_tip': True, 'x_auto_range': True, 'x_lower_bound': 0, 'legend_layout': 'VERTICAL'})"
      ]
     },
     "metadata": {},
     "output_type": "display_data"
    }
   ],
   "source": [
    "import pandas as pd\n",
    "\n",
    "tableRows = pd.read_csv('../../../doc/contents/demoResources/interest-rates.csv')\n",
    "pp1 = Plot()\n",
    "pp1.add(Bars(y=tableRows.y1))"
   ]
  },
  {
   "cell_type": "code",
   "execution_count": 28,
   "metadata": {},
   "outputs": [
    {
     "data": {
      "application/vnd.jupyter.widget-view+json": {
       "model_id": "e40610a214224ff9b7d1a253730981f9",
       "version_major": 2,
       "version_minor": 0
      },
      "text/html": [
       "<p>Failed to display Jupyter Widget of type <code>Plot</code>.</p>\n",
       "<p>\n",
       "  If you're reading this message in Jupyter Notebook or JupyterLab, it may mean\n",
       "  that the widgets JavaScript is still loading. If this message persists, it\n",
       "  likely means that the widgets JavaScript library is either not installed or\n",
       "  not enabled. See the <a href=\"https://ipywidgets.readthedocs.io/en/stable/user_install.html\">Jupyter\n",
       "  Widgets Documentation</a> for setup instructions.\n",
       "</p>\n",
       "<p>\n",
       "  If you're reading this message in another notebook frontend (for example, a static\n",
       "  rendering on GitHub or <a href=\"https://nbviewer.jupyter.org/\">NBViewer</a>),\n",
       "  it may mean that your frontend doesn't currently support widgets.\n",
       "</p>\n"
      ],
      "text/plain": [
       "Plot(model={'x_upper_bound': 0, 'constant_lines': [], 'constant_bands': [], 'init_width': 640, 'log_x': False, 'x_upper_margin': 0.05, 'graphics_list': [{'width': 5, 'y': [0, 60, 10, 50, 20, 40, 30], 'type': 'Line', 'x': [10, 20, 30, 40, 50, 60, 70], 'visible': True, 'hasClickAction': False}], 'type': 'Plot', 'log_y': False, 'legend_position': {'position': 'TOP_RIGHT'}, 'init_height': 480, 'omit_checkboxes': False, 'x_lower_margin': 0.05, 'texts': [], 'x_log_base': 10, 'rangeAxes': [{'lower_margin': 0.05, 'label': '', 'auto_range_includes_zero': False, 'log_base': 10.0, 'use_log': False, 'type': 'YAxis', 'auto_range': True, 'upper_bound': 0.0, 'upper_margin': 0.05, 'lower_bound': 0.0}], 'use_tool_tip': True, 'x_auto_range': True, 'x_lower_bound': 0, 'legend_layout': 'VERTICAL'})"
      ]
     },
     "metadata": {},
     "output_type": "display_data"
    }
   ],
   "source": [
    "pp2 = Plot()\n",
    "pp2.add(Line(\n",
    "        x=pd.Series([10, 20, 30, 40, 50, 60, 70]), \n",
    "        y=pd.Series([0, 60, 10, 50, 20, 40, 30]), \n",
    "        width=5))"
   ]
  },
  {
   "cell_type": "code",
   "execution_count": 29,
   "metadata": {},
   "outputs": [
    {
     "data": {
      "application/vnd.jupyter.widget-view+json": {
       "model_id": "abd3682050104594ac8b7cb126da011e",
       "version_major": 2,
       "version_minor": 0
      },
      "text/html": [
       "<p>Failed to display Jupyter Widget of type <code>Plot</code>.</p>\n",
       "<p>\n",
       "  If you're reading this message in Jupyter Notebook or JupyterLab, it may mean\n",
       "  that the widgets JavaScript is still loading. If this message persists, it\n",
       "  likely means that the widgets JavaScript library is either not installed or\n",
       "  not enabled. See the <a href=\"https://ipywidgets.readthedocs.io/en/stable/user_install.html\">Jupyter\n",
       "  Widgets Documentation</a> for setup instructions.\n",
       "</p>\n",
       "<p>\n",
       "  If you're reading this message in another notebook frontend (for example, a static\n",
       "  rendering on GitHub or <a href=\"https://nbviewer.jupyter.org/\">NBViewer</a>),\n",
       "  it may mean that your frontend doesn't currently support widgets.\n",
       "</p>\n"
      ],
      "text/plain": [
       "Plot(model={'x_upper_bound': 0, 'constant_lines': [], 'constant_bands': [], 'init_width': 640, 'log_x': False, 'x_upper_margin': 0.05, 'graphics_list': [{'base': 0, 'display_name': 'y1', 'y': [1, 5, 3, 2, 3], 'type': 'Area', 'x': [0, 1, 2, 3, 4], 'visible': True, 'hasClickAction': False}, {'base': 0, 'bases': [1, 5, 3, 2, 3], 'display_name': 'y2', 'y': [2, 7, 7, 3, 6], 'type': 'Area', 'x': [0, 1, 2, 3, 4], 'visible': True, 'hasClickAction': False}], 'type': 'Plot', 'log_y': False, 'legend_position': {'position': 'TOP_RIGHT'}, 'init_height': 480, 'omit_checkboxes': False, 'x_lower_margin': 0.05, 'texts': [], 'x_log_base': 10, 'rangeAxes': [{'lower_margin': 0.05, 'label': '', 'auto_range_includes_zero': False, 'log_base': 10.0, 'use_log': False, 'type': 'YAxis', 'auto_range': True, 'upper_bound': 0.0, 'upper_margin': 0.05, 'lower_bound': 0.0}], 'use_tool_tip': True, 'x_auto_range': True, 'x_lower_bound': 0, 'legend_layout': 'VERTICAL'})"
      ]
     },
     "metadata": {},
     "output_type": "display_data"
    }
   ],
   "source": [
    "y1 = [1,5,3,2,3]\n",
    "y2 = [1,2,4,1,3]\n",
    "p = Plot()\n",
    "a1 = Area(y=y1, displayName='y1')\n",
    "a2 = Area(y=y2, displayName='y2')\n",
    "stacker = XYStacker()\n",
    "p.add(stacker.stack([a1, a2]))"
   ]
  },
  {
   "cell_type": "code",
   "execution_count": 30,
   "metadata": {},
   "outputs": [
    {
     "data": {
      "application/vnd.jupyter.widget-view+json": {
       "model_id": "912d0c4d01ff4dccbe2194cec4aa6e3d",
       "version_major": 2,
       "version_minor": 0
      },
      "text/html": [
       "<p>Failed to display Jupyter Widget of type <code>SimpleTimePlot</code>.</p>\n",
       "<p>\n",
       "  If you're reading this message in Jupyter Notebook or JupyterLab, it may mean\n",
       "  that the widgets JavaScript is still loading. If this message persists, it\n",
       "  likely means that the widgets JavaScript library is either not installed or\n",
       "  not enabled. See the <a href=\"https://ipywidgets.readthedocs.io/en/stable/user_install.html\">Jupyter\n",
       "  Widgets Documentation</a> for setup instructions.\n",
       "</p>\n",
       "<p>\n",
       "  If you're reading this message in another notebook frontend (for example, a static\n",
       "  rendering on GitHub or <a href=\"https://nbviewer.jupyter.org/\">NBViewer</a>),\n",
       "  it may mean that your frontend doesn't currently support widgets.\n",
       "</p>\n"
      ],
      "text/plain": [
       "SimpleTimePlot(model={'x_upper_bound': 0, 'constant_lines': [], 'constant_bands': [], 'init_width': 640, 'log_x': False, 'x_upper_margin': 0.05, 'graphics_list': [{'display_name': '1 Year', 'width': 1.5, 'y': [7.921, 8.1111, 8.35, 8.4045, 8.3164, 8.0962, 7.941, 7.7791, 7.7632, 7.5514, 7.3135, 7.0505, 6.6443, 6.2668, 6.396, 6.2359, 6.1305, 6.3585, 6.3055, 5.7782, 5.5725, 5.3336, 4.8895, 4.3781, 4.151, 4.2874, 4.6345, 4.299, 4.1895, 4.1659, 3.5959, 3.4719, 3.1843, 3.3024, 3.6821, 3.7114, 3.4963, 3.3858, 3.333, 3.2443, 3.3635, 3.5364, 3.4748, 3.4436, 3.3562, 3.392, 3.579, 3.6073, 3.5425, 3.8658, 4.3191, 4.8158, 5.3143, 5.2673, 5.4765, 5.5622, 5.7629, 6.1145, 6.54, 7.1362, 7.0505, 6.6968, 6.4317, 6.2658, 5.9977, 5.6423, 5.594, 5.7526, 5.62, 5.5905, 5.4329, 5.307, 5.0876, 4.942, 5.3424, 5.5377, 5.6368, 5.81, 5.8509, 5.6668, 5.833, 5.55, 5.4232, 5.4719, 5.6124, 5.5253, 5.7955, 5.9882, 5.8695, 5.6919, 5.5418, 5.5648, 5.5238, 5.4564, 5.4572, 5.525, 5.2445, 5.3084, 5.3895, 5.379, 5.44, 5.4086, 5.3582, 5.2052, 4.711, 4.1214, 4.5253, 4.5186, 4.5142, 4.7026, 4.7813, 4.69, 4.849, 5.0968, 5.0319, 5.1977, 5.2514, 5.429, 5.5535, 5.8423, 6.1215, 6.218, 6.2222, 6.1505, 6.3264, 6.1727, 6.0825, 6.183, 6.1255, 6.0124, 6.0919, 5.6025, 4.8148, 4.6842, 4.2986, 3.9765, 3.7814, 3.5762, 3.6171, 3.4704, 2.8247, 2.3305, 2.182, 2.2155, 2.1586, 2.2326, 2.567, 2.4759, 2.3541, 2.1965, 1.9609, 1.7573, 1.715, 1.65, 1.4916, 1.45, 1.3643, 1.2963, 1.24, 1.2671, 1.1814, 1.0095, 1.1164, 1.3086, 1.2376, 1.2541, 1.3367, 1.3059, 1.2395, 1.2437, 1.1874, 1.4338, 1.7775, 2.1152, 2.0952, 2.0159, 2.1167, 2.228, 2.5, 2.6705, 2.8605, 3.0295, 3.3023, 3.3167, 3.331, 3.3632, 3.641, 3.8722, 3.8452, 4.1755, 4.334, 4.3529, 4.445, 4.6847, 4.7735, 4.8974, 4.995, 5.155, 5.2175, 5.0826, 4.9745, 5.01, 5.011, 4.9415, 5.0571, 5.0537, 4.9205, 4.9324, 4.9091, 4.9624, 4.9643, 4.4722, 4.1368, 4.0968, 3.499, 3.263, 2.7114, 2.0535, 1.544, 1.7382, 2.0557, 2.4195, 2.2818, 2.1771, 1.9129, 1.4205, 1.0667, 0.4945, 0.4445, 0.6226, 0.6441, 0.5476, 0.5015, 0.5136, 0.4786, 0.459, 0.4048, 0.3748, 0.3132, 0.3714, 0.3458, 0.3458, 0.3957, 0.445, 0.371, 0.3182, 0.2914, 0.2591, 0.2567, 0.228, 0.252, 0.2941, 0.2735, 0.2863, 0.2591, 0.2465, 0.1881, 0.1809, 0.185, 0.1148, 0.1048, 0.1145, 0.112, 0.1152, 0.115, 0.161, 0.19, 0.1833, 0.1918, 0.189, 0.1857, 0.1835, 0.1758, 0.1795, 0.1785, 0.1585, 0.1452, 0.1574, 0.1475, 0.1245, 0.1186, 0.142, 0.1218, 0.1268, 0.1185, 0.1214, 0.1216, 0.1329, 0.1162, 0.1168, 0.1281, 0.1076, 0.0967, 0.1048, 0.1114, 0.1071, 0.1095, 0.1045, 0.1344, 0.2145, 0.1955, 0.2242, 0.2536, 0.2336, 0.241, 0.2755, 0.2968, 0.3757, 0.3733, 0.2633, 0.4768, 0.6536, 0.61], 'type': 'Line', 'x': [633726000000, 636145200000, 638823600000, 641419200000, 644097600000, 646689600000, 649368000000, 652046400000, 654638400000, 657313200000, 659905200000, 662583600000, 665262000000, 667681200000, 670359600000, 672955200000, 675633600000, 678225600000, 680904000000, 683582400000, 686174400000, 688849200000, 691441200000, 694119600000, 696798000000, 699303600000, 701982000000, 704577600000, 707256000000, 709848000000, 712526400000, 715204800000, 717796800000, 720471600000, 723063600000, 725742000000, 728420400000, 730839600000, 733518000000, 736113600000, 738792000000, 741384000000, 744062400000, 746740800000, 749332800000, 752011200000, 754599600000, 757278000000, 759956400000, 762375600000, 765054000000, 767649600000, 770328000000, 772920000000, 775598400000, 778276800000, 780868800000, 783543600000, 786135600000, 788814000000, 791492400000, 793911600000, 796590000000, 799185600000, 801864000000, 804456000000, 807134400000, 809812800000, 812404800000, 815079600000, 817671600000, 820350000000, 823028400000, 825534000000, 828212400000, 830808000000, 833486400000, 836078400000, 838756800000, 841435200000, 844027200000, 846702000000, 849294000000, 851972400000, 854650800000, 857070000000, 859748400000, 862344000000, 865022400000, 867614400000, 870292800000, 872971200000, 875563200000, 878238000000, 880830000000, 883508400000, 886186800000, 888606000000, 891284400000, 893880000000, 896558400000, 899150400000, 901828800000, 904507200000, 907099200000, 909774000000, 912366000000, 915044400000, 917722800000, 920142000000, 922820400000, 925416000000, 928094400000, 930686400000, 933364800000, 936043200000, 938635200000, 941313600000, 943902000000, 946580400000, 949258800000, 951764400000, 954442800000, 957038400000, 959716800000, 962308800000, 964987200000, 967665600000, 970257600000, 972932400000, 975524400000, 978202800000, 980881200000, 983300400000, 985978800000, 988574400000, 991252800000, 993844800000, 996523200000, 999201600000, 1001793600000, 1004468400000, 1007060400000, 1009738800000, 1012417200000, 1014836400000, 1017514800000, 1020110400000, 1022788800000, 1025380800000, 1028059200000, 1030737600000, 1033329600000, 1036004400000, 1038596400000, 1041274800000, 1043953200000, 1046372400000, 1049050800000, 1051646400000, 1054324800000, 1056916800000, 1059595200000, 1062273600000, 1064865600000, 1067540400000, 1070132400000, 1072810800000, 1075489200000, 1077994800000, 1080673200000, 1083268800000, 1085947200000, 1088539200000, 1091217600000, 1093896000000, 1096488000000, 1099166400000, 1101754800000, 1104433200000, 1107111600000, 1109530800000, 1112209200000, 1114804800000, 1117483200000, 1120075200000, 1122753600000, 1125432000000, 1128024000000, 1130698800000, 1133290800000, 1135969200000, 1138647600000, 1141066800000, 1143745200000, 1146340800000, 1149019200000, 1151611200000, 1154289600000, 1156968000000, 1159560000000, 1162234800000, 1164826800000, 1167505200000, 1170183600000, 1172602800000, 1175284800000, 1177876800000, 1180555200000, 1183147200000, 1185825600000, 1188504000000, 1191096000000, 1193774400000, 1196362800000, 1199041200000, 1201719600000, 1204225200000, 1206907200000, 1209499200000, 1212177600000, 1214769600000, 1217448000000, 1220126400000, 1222718400000, 1225396800000, 1227985200000, 1230663600000, 1233342000000, 1235761200000, 1238443200000, 1241035200000, 1243713600000, 1246305600000, 1248984000000, 1251662400000, 1254254400000, 1256932800000, 1259521200000, 1262199600000, 1264878000000, 1267297200000, 1269979200000, 1272571200000, 1275249600000, 1277841600000, 1280520000000, 1283198400000, 1285790400000, 1288468800000, 1291057200000, 1293735600000, 1296414000000, 1298833200000, 1301515200000, 1304107200000, 1306785600000, 1309377600000, 1312056000000, 1314734400000, 1317326400000, 1320004800000, 1322593200000, 1325271600000, 1327950000000, 1330455600000, 1333137600000, 1335729600000, 1338408000000, 1341000000000, 1343678400000, 1346356800000, 1348948800000, 1351627200000, 1354215600000, 1356894000000, 1359572400000, 1361991600000, 1364673600000, 1367265600000, 1369944000000, 1372536000000, 1375214400000, 1377892800000, 1380484800000, 1383163200000, 1385751600000, 1388430000000, 1391108400000, 1393527600000, 1396209600000, 1398801600000, 1401480000000, 1404072000000, 1406750400000, 1409428800000, 1412020800000, 1414699200000, 1417287600000, 1419966000000, 1422644400000, 1425063600000, 1427745600000, 1430337600000, 1433016000000, 1435608000000, 1438286400000, 1440964800000, 1443556800000, 1446235200000, 1448823600000, 1451502000000, 1454180400000], 'visible': True, 'hasClickAction': False}, {'display_name': '10 Year', 'width': 1.5, 'y': [8.2067, 8.4732, 8.5886, 8.7855, 8.7582, 8.48, 8.4714, 8.7526, 8.8932, 8.7195, 8.392, 8.075, 8.0919, 7.8547, 8.11, 8.0391, 8.0677, 8.284, 8.2727, 7.9, 7.65, 7.5273, 7.4174, 7.0886, 7.0324, 7.3379, 7.5423, 7.4805, 7.392, 7.2618, 6.8445, 6.5857, 6.4152, 6.589, 6.8732, 6.77, 6.6, 6.2589, 5.9752, 5.9695, 6.0355, 5.9627, 5.8052, 5.6777, 5.36, 5.334, 5.724, 5.7741, 5.7505, 5.9732, 6.4826, 6.9721, 7.1833, 7.1014, 7.298, 7.2361, 7.4571, 7.744, 7.955, 7.8138, 7.7795, 7.4695, 7.2048, 7.0626, 6.6327, 6.1682, 6.278, 6.4883, 6.1975, 6.0448, 5.9305, 5.7115, 5.6524, 5.8055, 6.2686, 6.5114, 6.7368, 6.912, 6.8655, 6.6355, 6.832, 6.5336, 6.2037, 6.3024, 6.579, 6.4195, 6.6945, 6.8855, 6.711, 6.4938, 6.2205, 6.2986, 6.2086, 6.0295, 5.875, 5.8086, 5.5445, 5.5747, 5.6473, 5.6376, 5.6525, 5.4964, 5.4614, 5.3419, 4.8067, 4.53, 4.8274, 4.645, 4.7221, 4.9989, 5.2326, 5.1845, 5.5395, 5.8995, 5.7919, 5.9391, 5.9152, 6.112, 6.034, 6.2755, 6.661, 6.5195, 6.2565, 5.9905, 6.4405, 6.0973, 6.054, 5.8261, 5.799, 5.7386, 5.7171, 5.2405, 5.161, 5.0989, 4.8855, 5.141, 5.3914, 5.2843, 5.2362, 4.9713, 4.7318, 4.5668, 4.6515, 5.0875, 5.0357, 4.9116, 5.284, 5.2109, 5.1645, 4.9265, 4.6532, 4.2573, 3.87, 3.9409, 4.0484, 4.0324, 4.0486, 3.9026, 3.8071, 3.9586, 3.569, 3.3343, 3.9755, 4.4452, 4.2743, 4.2905, 4.3, 4.2677, 4.1505, 4.0842, 3.8265, 4.3476, 4.7155, 4.7338, 4.4981, 4.2814, 4.1257, 4.097, 4.194, 4.2309, 4.2215, 4.1653, 4.4977, 4.341, 4.1443, 3.9982, 4.1775, 4.2626, 4.199, 4.4635, 4.535, 4.4671, 4.416, 4.5689, 4.7239, 4.9905, 5.11, 5.1064, 5.0875, 4.8765, 4.719, 4.729, 4.5952, 4.5645, 4.7595, 4.7226, 4.5645, 4.6938, 4.7464, 5.1029, 5.0043, 4.6748, 4.5216, 4.5277, 4.1485, 4.0975, 3.7443, 3.7375, 3.51, 3.675, 3.88, 4.0995, 4.0077, 3.8857, 3.6862, 3.8141, 3.5267, 2.4164, 2.5175, 2.87, 2.8195, 2.9271, 3.293, 3.7218, 3.5623, 3.5871, 3.4019, 3.3876, 3.4026, 3.59, 3.7332, 3.6911, 3.7274, 3.8468, 3.42, 3.2041, 3.0114, 2.6986, 2.6476, 2.54, 2.763, 3.2909, 3.394, 3.5763, 3.4143, 3.455, 3.1686, 3.0023, 3.003, 2.303, 1.9752, 2.152, 2.0135, 1.9781, 1.9665, 1.9675, 2.1727, 2.0529, 1.8032, 1.6224, 1.5267, 1.6783, 1.7232, 1.7462, 1.654, 1.719, 1.9148, 1.9842, 1.9575, 1.7591, 1.9282, 2.3, 2.5823, 2.7373, 2.8095, 2.6159, 2.7184, 2.9019, 2.8581, 2.7095, 2.7233, 2.7052, 2.559, 2.5986, 2.5423, 2.42, 2.5343, 2.3041, 2.3256, 2.2073, 1.8815, 1.9753, 2.0427, 1.935, 2.1975, 2.3636, 2.3245, 2.1671, 2.1729, 2.07, 2.2632, 2.2427, 2.24], 'type': 'Line', 'x': [633726000000, 636145200000, 638823600000, 641419200000, 644097600000, 646689600000, 649368000000, 652046400000, 654638400000, 657313200000, 659905200000, 662583600000, 665262000000, 667681200000, 670359600000, 672955200000, 675633600000, 678225600000, 680904000000, 683582400000, 686174400000, 688849200000, 691441200000, 694119600000, 696798000000, 699303600000, 701982000000, 704577600000, 707256000000, 709848000000, 712526400000, 715204800000, 717796800000, 720471600000, 723063600000, 725742000000, 728420400000, 730839600000, 733518000000, 736113600000, 738792000000, 741384000000, 744062400000, 746740800000, 749332800000, 752011200000, 754599600000, 757278000000, 759956400000, 762375600000, 765054000000, 767649600000, 770328000000, 772920000000, 775598400000, 778276800000, 780868800000, 783543600000, 786135600000, 788814000000, 791492400000, 793911600000, 796590000000, 799185600000, 801864000000, 804456000000, 807134400000, 809812800000, 812404800000, 815079600000, 817671600000, 820350000000, 823028400000, 825534000000, 828212400000, 830808000000, 833486400000, 836078400000, 838756800000, 841435200000, 844027200000, 846702000000, 849294000000, 851972400000, 854650800000, 857070000000, 859748400000, 862344000000, 865022400000, 867614400000, 870292800000, 872971200000, 875563200000, 878238000000, 880830000000, 883508400000, 886186800000, 888606000000, 891284400000, 893880000000, 896558400000, 899150400000, 901828800000, 904507200000, 907099200000, 909774000000, 912366000000, 915044400000, 917722800000, 920142000000, 922820400000, 925416000000, 928094400000, 930686400000, 933364800000, 936043200000, 938635200000, 941313600000, 943902000000, 946580400000, 949258800000, 951764400000, 954442800000, 957038400000, 959716800000, 962308800000, 964987200000, 967665600000, 970257600000, 972932400000, 975524400000, 978202800000, 980881200000, 983300400000, 985978800000, 988574400000, 991252800000, 993844800000, 996523200000, 999201600000, 1001793600000, 1004468400000, 1007060400000, 1009738800000, 1012417200000, 1014836400000, 1017514800000, 1020110400000, 1022788800000, 1025380800000, 1028059200000, 1030737600000, 1033329600000, 1036004400000, 1038596400000, 1041274800000, 1043953200000, 1046372400000, 1049050800000, 1051646400000, 1054324800000, 1056916800000, 1059595200000, 1062273600000, 1064865600000, 1067540400000, 1070132400000, 1072810800000, 1075489200000, 1077994800000, 1080673200000, 1083268800000, 1085947200000, 1088539200000, 1091217600000, 1093896000000, 1096488000000, 1099166400000, 1101754800000, 1104433200000, 1107111600000, 1109530800000, 1112209200000, 1114804800000, 1117483200000, 1120075200000, 1122753600000, 1125432000000, 1128024000000, 1130698800000, 1133290800000, 1135969200000, 1138647600000, 1141066800000, 1143745200000, 1146340800000, 1149019200000, 1151611200000, 1154289600000, 1156968000000, 1159560000000, 1162234800000, 1164826800000, 1167505200000, 1170183600000, 1172602800000, 1175284800000, 1177876800000, 1180555200000, 1183147200000, 1185825600000, 1188504000000, 1191096000000, 1193774400000, 1196362800000, 1199041200000, 1201719600000, 1204225200000, 1206907200000, 1209499200000, 1212177600000, 1214769600000, 1217448000000, 1220126400000, 1222718400000, 1225396800000, 1227985200000, 1230663600000, 1233342000000, 1235761200000, 1238443200000, 1241035200000, 1243713600000, 1246305600000, 1248984000000, 1251662400000, 1254254400000, 1256932800000, 1259521200000, 1262199600000, 1264878000000, 1267297200000, 1269979200000, 1272571200000, 1275249600000, 1277841600000, 1280520000000, 1283198400000, 1285790400000, 1288468800000, 1291057200000, 1293735600000, 1296414000000, 1298833200000, 1301515200000, 1304107200000, 1306785600000, 1309377600000, 1312056000000, 1314734400000, 1317326400000, 1320004800000, 1322593200000, 1325271600000, 1327950000000, 1330455600000, 1333137600000, 1335729600000, 1338408000000, 1341000000000, 1343678400000, 1346356800000, 1348948800000, 1351627200000, 1354215600000, 1356894000000, 1359572400000, 1361991600000, 1364673600000, 1367265600000, 1369944000000, 1372536000000, 1375214400000, 1377892800000, 1380484800000, 1383163200000, 1385751600000, 1388430000000, 1391108400000, 1393527600000, 1396209600000, 1398801600000, 1401480000000, 1404072000000, 1406750400000, 1409428800000, 1412020800000, 1414699200000, 1417287600000, 1419966000000, 1422644400000, 1425063600000, 1427745600000, 1430337600000, 1433016000000, 1435608000000, 1438286400000, 1440964800000, 1443556800000, 1446235200000, 1448823600000, 1451502000000, 1454180400000], 'visible': True, 'hasClickAction': False}], 'type': 'TimePlot', 'log_y': False, 'legend_position': {'position': 'TOP_RIGHT'}, 'init_height': 480, 'omit_checkboxes': False, 'x_lower_margin': 0.05, 'texts': [], 'x_log_base': 10, 'rangeAxes': [{'lower_margin': 0.05, 'label': '', 'auto_range_includes_zero': False, 'log_base': 10.0, 'use_log': False, 'type': 'YAxis', 'auto_range': True, 'upper_bound': 0.0, 'upper_margin': 0.05, 'lower_bound': 0.0}], 'use_tool_tip': True, 'x_auto_range': True, 'x_lower_bound': 0, 'legend_layout': 'VERTICAL'})"
      ]
     },
     "metadata": {},
     "output_type": "display_data"
    }
   ],
   "source": [
    "SimpleTimePlot(tableRows, [\"y1\", \"y10\"], # column names\n",
    "               timeColumn=\"time\", # time is default value for a timeColumn\n",
    "               displayNames=[\"1 Year\", \"10 Year\"])"
   ]
  },
  {
   "cell_type": "code",
   "execution_count": 31,
   "metadata": {},
   "outputs": [
    {
     "data": {
      "application/vnd.jupyter.widget-view+json": {
       "model_id": "21afa58b0bab4668bbbe5eeaf4876f3e",
       "version_major": 2,
       "version_minor": 0
      },
      "text/html": [
       "<p>Failed to display Jupyter Widget of type <code>TimePlot</code>.</p>\n",
       "<p>\n",
       "  If you're reading this message in Jupyter Notebook or JupyterLab, it may mean\n",
       "  that the widgets JavaScript is still loading. If this message persists, it\n",
       "  likely means that the widgets JavaScript library is either not installed or\n",
       "  not enabled. See the <a href=\"https://ipywidgets.readthedocs.io/en/stable/user_install.html\">Jupyter\n",
       "  Widgets Documentation</a> for setup instructions.\n",
       "</p>\n",
       "<p>\n",
       "  If you're reading this message in another notebook frontend (for example, a static\n",
       "  rendering on GitHub or <a href=\"https://nbviewer.jupyter.org/\">NBViewer</a>),\n",
       "  it may mean that your frontend doesn't currently support widgets.\n",
       "</p>\n"
      ],
      "text/plain": [
       "TimePlot(model={'legend_layout': 'VERTICAL', 'constant_lines': [], 'constant_bands': [], 'init_width': 640, 'log_x': False, 'x_upper_margin': 0.05, 'graphics_list': [{'shape': 'DEFAULT', 'hasClickAction': False, 'y': [0, 1, 2, 3, 4, 5, 6, 7, 8, 9, 10], 'type': 'Points', 'size': 6, 'visible': True, 'x': [1507541201624, 1507544801624, 1507548401624, 1507552001624, 1507555601624, 1507559201624, 1507562801624, 1507566401624, 1507570001624, 1507573601624, 1507577201624]}], 'type': 'TimePlot', 'log_y': False, 'legend_position': {'position': 'TOP_RIGHT'}, 'init_height': 480, 'omit_checkboxes': False, 'x_lower_margin': 0.05, 'texts': [], 'x_log_base': 10, 'timezone': 'America/New_York', 'rangeAxes': [{'lower_margin': 0.05, 'label': '', 'auto_range_includes_zero': False, 'log_base': 10.0, 'use_log': False, 'type': 'YAxis', 'auto_range': True, 'upper_bound': 0.0, 'upper_margin': 0.05, 'lower_bound': 0.0}], 'use_tool_tip': True, 'x_auto_range': True, 'x_lower_bound': 0, 'x_upper_bound': 0})"
      ]
     },
     "metadata": {},
     "output_type": "display_data"
    }
   ],
   "source": [
    "import time\n",
    "\n",
    "millis = 1507541201624;\n",
    "hour = round(1000 * 60 * 60);\n",
    "xs = [];\n",
    "ys = [];\n",
    "for i in range(11):\n",
    "    xs.append(millis + hour * i);\n",
    "    ys.append(i);\n",
    "\n",
    "plot = TimePlot(timeZone=\"America/New_York\")\n",
    "# list of milliseconds\n",
    "plot.add(Points(x=xs, y=ys))"
   ]
  },
  {
   "cell_type": "code",
   "execution_count": 32,
   "metadata": {},
   "outputs": [
    {
     "data": {
      "application/vnd.jupyter.widget-view+json": {
       "model_id": "8f9d3114d3ba4026b225cfccfcf59be4",
       "version_major": 2,
       "version_minor": 0
      },
      "text/html": [
       "<p>Failed to display Jupyter Widget of type <code>NanoPlot</code>.</p>\n",
       "<p>\n",
       "  If you're reading this message in Jupyter Notebook or JupyterLab, it may mean\n",
       "  that the widgets JavaScript is still loading. If this message persists, it\n",
       "  likely means that the widgets JavaScript library is either not installed or\n",
       "  not enabled. See the <a href=\"https://ipywidgets.readthedocs.io/en/stable/user_install.html\">Jupyter\n",
       "  Widgets Documentation</a> for setup instructions.\n",
       "</p>\n",
       "<p>\n",
       "  If you're reading this message in another notebook frontend (for example, a static\n",
       "  rendering on GitHub or <a href=\"https://nbviewer.jupyter.org/\">NBViewer</a>),\n",
       "  it may mean that your frontend doesn't currently support widgets.\n",
       "</p>\n"
      ],
      "text/plain": [
       "NanoPlot(model={'x_upper_bound': 0, 'constant_lines': [], 'constant_bands': [], 'init_width': 640, 'log_x': False, 'x_upper_margin': 0.05, 'graphics_list': [{'shape': 'DEFAULT', 'hasClickAction': False, 'y': [0, 1, 2, 3, 4, 5, 6, 7, 8, 9, 10], 'type': 'Points', 'size': 6, 'visible': True, 'x': ['1507541201624000000', '1507541201624000007', '1507541201624000014', '1507541201624000021', '1507541201624000028', '1507541201624000035', '1507541201624000042', '1507541201624000049', '1507541201624000056', '1507541201624000063', '1507541201624000070']}], 'type': 'NanoPlot', 'log_y': False, 'legend_position': {'position': 'TOP_RIGHT'}, 'init_height': 480, 'omit_checkboxes': False, 'x_lower_margin': 0.05, 'texts': [], 'x_log_base': 10, 'rangeAxes': [{'lower_margin': 0.05, 'label': '', 'auto_range_includes_zero': False, 'log_base': 10.0, 'use_log': False, 'type': 'YAxis', 'auto_range': True, 'upper_bound': 0.0, 'upper_margin': 0.05, 'lower_bound': 0.0}], 'use_tool_tip': True, 'x_auto_range': True, 'x_lower_bound': 0, 'legend_layout': 'VERTICAL'})"
      ]
     },
     "metadata": {},
     "output_type": "display_data"
    }
   ],
   "source": [
    "millis = millis = 1507541201624;\n",
    "nanos  = millis * 1000 * 1000\n",
    "xs = []\n",
    "ys = []\n",
    "for i in range(11):\n",
    "    xs.append(nanos + 7 * i)\n",
    "    ys.append(i);\n",
    "\n",
    "np = NanoPlot()\n",
    "np.add(Points(x=xs, y=ys))"
   ]
  },
  {
   "cell_type": "code",
   "execution_count": 33,
   "metadata": {},
   "outputs": [
    {
     "data": {
      "application/vnd.jupyter.widget-view+json": {
       "model_id": "7149d04d6c5049528cefeb3b774dd771",
       "version_major": 2,
       "version_minor": 0
      },
      "text/html": [
       "<p>Failed to display Jupyter Widget of type <code>Plot</code>.</p>\n",
       "<p>\n",
       "  If you're reading this message in Jupyter Notebook or JupyterLab, it may mean\n",
       "  that the widgets JavaScript is still loading. If this message persists, it\n",
       "  likely means that the widgets JavaScript library is either not installed or\n",
       "  not enabled. See the <a href=\"https://ipywidgets.readthedocs.io/en/stable/user_install.html\">Jupyter\n",
       "  Widgets Documentation</a> for setup instructions.\n",
       "</p>\n",
       "<p>\n",
       "  If you're reading this message in another notebook frontend (for example, a static\n",
       "  rendering on GitHub or <a href=\"https://nbviewer.jupyter.org/\">NBViewer</a>),\n",
       "  it may mean that your frontend doesn't currently support widgets.\n",
       "</p>\n"
      ],
      "text/plain": [
       "Plot(model={'x_upper_bound': 0, 'constant_lines': [], 'constant_bands': [], 'init_width': 640, 'log_x': False, 'x_upper_margin': 0.05, 'graphics_list': [{'width': 1.5, 'y': [0, 60, 10, 50, 20, 40, 30], 'type': 'Line', 'x': [10, 20, 30, 40, 50, 60, 70], 'visible': True, 'hasClickAction': False}, {'yAxis': 'Test y axis', 'width': 1.5, 'y': [5, 65, 15, 55, 25, 45, 35], 'type': 'Line', 'x': [5, 15, 25, 35, 45, 55, 65], 'visible': True, 'hasClickAction': False}], 'type': 'Plot', 'log_y': False, 'legend_position': {'position': 'TOP_RIGHT'}, 'init_height': 480, 'omit_checkboxes': False, 'x_lower_margin': 0.05, 'texts': [], 'x_log_base': 10, 'rangeAxes': [{'lower_margin': 0.05, 'label': '', 'auto_range_includes_zero': False, 'log_base': 10.0, 'use_log': False, 'type': 'YAxis', 'auto_range': True, 'upper_bound': 0.0, 'upper_margin': 0.05, 'lower_bound': 0.0}, {'lower_margin': 0.05, 'label': 'Test y axis', 'auto_range_includes_zero': False, 'log_base': 10.0, 'use_log': False, 'type': 'YAxis', 'auto_range': True, 'upper_bound': 0.0, 'upper_margin': 0.05, 'lower_bound': 0.0}], 'use_tool_tip': True, 'x_auto_range': True, 'x_lower_bound': 0, 'legend_layout': 'VERTICAL'})"
      ]
     },
     "metadata": {},
     "output_type": "display_data"
    }
   ],
   "source": [
    "sp = Plot()\n",
    "sp.add(YAxis(label= \"Test y axis\"))\n",
    "sp.add(Line(\n",
    "        x=pd.Series([10, 20, 30, 40, 50, 60, 70]), \n",
    "        y=pd.Series([0, 60, 10, 50, 20, 40, 30])))\n",
    "sp.add(Line(\n",
    "        x=pd.Series([5, 15, 25, 35, 45, 55, 65]), \n",
    "        y=pd.Series([5, 65, 15, 55, 25, 45, 35]), yAxis= \"Test y axis\"))"
   ]
  },
  {
   "cell_type": "code",
   "execution_count": 34,
   "metadata": {},
   "outputs": [
    {
     "data": {
      "application/vnd.jupyter.widget-view+json": {
       "model_id": "2598a4e6ca42464b93f6fcff6261ed39",
       "version_major": 2,
       "version_minor": 0
      },
      "text/html": [
       "<p>Failed to display Jupyter Widget of type <code>CombinedPlot</code>.</p>\n",
       "<p>\n",
       "  If you're reading this message in Jupyter Notebook or JupyterLab, it may mean\n",
       "  that the widgets JavaScript is still loading. If this message persists, it\n",
       "  likely means that the widgets JavaScript library is either not installed or\n",
       "  not enabled. See the <a href=\"https://ipywidgets.readthedocs.io/en/stable/user_install.html\">Jupyter\n",
       "  Widgets Documentation</a> for setup instructions.\n",
       "</p>\n",
       "<p>\n",
       "  If you're reading this message in another notebook frontend (for example, a static\n",
       "  rendering on GitHub or <a href=\"https://nbviewer.jupyter.org/\">NBViewer</a>),\n",
       "  it may mean that your frontend doesn't currently support widgets.\n",
       "</p>\n"
      ],
      "text/plain": [
       "CombinedPlot(model={'x_tickLabels_visible': True, 'init_height': 480, 'y_tickLabels_visible': True, 'plots': [{'x_upper_bound': 0, 'constant_lines': [], 'constant_bands': [], 'init_width': 640, 'log_x': False, 'x_upper_margin': 0.05, 'graphics_list': [{'width': 1.5, 'y': [0, 1, 2, 3, 4, 5, 6, 7, 8, 9, 10, 11, 12, 13, 14, 15, 16, 17, 18, 19, 20, 21, 22, 23, 24, 25, 26, 27, 28, 29, 30, 31, 32, 33, 34, 35, 36, 37, 38, 39, 40, 41, 42, 43, 44, 45, 46, 47, 48, 49, 50, 51, 52, 53, 54, 55, 56, 57, 58, 59, 60, 61, 62, 63, 64, 65, 66, 67, 68, 69, 70, 71, 72, 73, 74, 75, 76, 77, 78, 79, 80, 81, 82, 83, 84, 85, 86, 87, 88, 89, 90, 91, 92, 93, 94, 95, 96, 97, 98, 99], 'type': 'Line', 'x': [0, 1, 2, 3, 4, 5, 6, 7, 8, 9, 10, 11, 12, 13, 14, 15, 16, 17, 18, 19, 20, 21, 22, 23, 24, 25, 26, 27, 28, 29, 30, 31, 32, 33, 34, 35, 36, 37, 38, 39, 40, 41, 42, 43, 44, 45, 46, 47, 48, 49, 50, 51, 52, 53, 54, 55, 56, 57, 58, 59, 60, 61, 62, 63, 64, 65, 66, 67, 68, 69, 70, 71, 72, 73, 74, 75, 76, 77, 78, 79, 80, 81, 82, 83, 84, 85, 86, 87, 88, 89, 90, 91, 92, 93, 94, 95, 96, 97, 98, 99], 'visible': True, 'hasClickAction': False}], 'type': 'Plot', 'log_y': False, 'legend_position': {'position': 'TOP_RIGHT'}, 'init_height': 480, 'omit_checkboxes': False, 'chart_title': 'Linear x, Linear y', 'texts': [], 'x_log_base': 10, 'rangeAxes': [{'lower_margin': 0.05, 'label': '', 'auto_range_includes_zero': False, 'log_base': 10.0, 'use_log': False, 'type': 'YAxis', 'auto_range': True, 'upper_bound': 0.0, 'upper_margin': 0.05, 'lower_bound': 0.0}], 'use_tool_tip': True, 'x_auto_range': True, 'x_lower_bound': 0, 'legend_layout': 'VERTICAL', 'x_lower_margin': 0.05}, {'x_upper_bound': 0, 'constant_lines': [], 'constant_bands': [], 'init_width': 640, 'log_x': False, 'x_upper_margin': 0.05, 'graphics_list': [{'width': 1.5, 'y': [0, 1, 2, 3, 4, 5, 6, 7, 8, 9, 10, 11, 12, 13, 14, 15, 16, 17, 18, 19, 20, 21, 22, 23, 24, 25, 26, 27, 28, 29, 30, 31, 32, 33, 34, 35, 36, 37, 38, 39, 40, 41, 42, 43, 44, 45, 46, 47, 48, 49, 50, 51, 52, 53, 54, 55, 56, 57, 58, 59, 60, 61, 62, 63, 64, 65, 66, 67, 68, 69, 70, 71, 72, 73, 74, 75, 76, 77, 78, 79, 80, 81, 82, 83, 84, 85, 86, 87, 88, 89, 90, 91, 92, 93, 94, 95, 96, 97, 98, 99], 'type': 'Line', 'x': [0, 1, 2, 3, 4, 5, 6, 7, 8, 9, 10, 11, 12, 13, 14, 15, 16, 17, 18, 19, 20, 21, 22, 23, 24, 25, 26, 27, 28, 29, 30, 31, 32, 33, 34, 35, 36, 37, 38, 39, 40, 41, 42, 43, 44, 45, 46, 47, 48, 49, 50, 51, 52, 53, 54, 55, 56, 57, 58, 59, 60, 61, 62, 63, 64, 65, 66, 67, 68, 69, 70, 71, 72, 73, 74, 75, 76, 77, 78, 79, 80, 81, 82, 83, 84, 85, 86, 87, 88, 89, 90, 91, 92, 93, 94, 95, 96, 97, 98, 99], 'visible': True, 'hasClickAction': False}], 'type': 'Plot', 'log_y': True, 'legend_position': {'position': 'TOP_RIGHT'}, 'init_height': 480, 'omit_checkboxes': False, 'chart_title': 'Linear x, Log y', 'texts': [], 'x_log_base': 10, 'rangeAxes': [{'lower_margin': 0.05, 'label': '', 'auto_range_includes_zero': False, 'log_base': 10.0, 'use_log': True, 'type': 'YAxis', 'auto_range': True, 'upper_bound': 0.0, 'upper_margin': 0.05, 'lower_bound': 0.0}], 'use_tool_tip': True, 'x_auto_range': True, 'x_lower_bound': 0, 'legend_layout': 'VERTICAL', 'x_lower_margin': 0.05}, {'x_upper_bound': 0, 'constant_lines': [], 'constant_bands': [], 'init_width': 640, 'log_x': True, 'x_upper_margin': 0.05, 'graphics_list': [{'width': 1.5, 'y': [0, 1, 2, 3, 4, 5, 6, 7, 8, 9, 10, 11, 12, 13, 14, 15, 16, 17, 18, 19, 20, 21, 22, 23, 24, 25, 26, 27, 28, 29, 30, 31, 32, 33, 34, 35, 36, 37, 38, 39, 40, 41, 42, 43, 44, 45, 46, 47, 48, 49, 50, 51, 52, 53, 54, 55, 56, 57, 58, 59, 60, 61, 62, 63, 64, 65, 66, 67, 68, 69, 70, 71, 72, 73, 74, 75, 76, 77, 78, 79, 80, 81, 82, 83, 84, 85, 86, 87, 88, 89, 90, 91, 92, 93, 94, 95, 96, 97, 98, 99], 'type': 'Line', 'x': [0, 1, 2, 3, 4, 5, 6, 7, 8, 9, 10, 11, 12, 13, 14, 15, 16, 17, 18, 19, 20, 21, 22, 23, 24, 25, 26, 27, 28, 29, 30, 31, 32, 33, 34, 35, 36, 37, 38, 39, 40, 41, 42, 43, 44, 45, 46, 47, 48, 49, 50, 51, 52, 53, 54, 55, 56, 57, 58, 59, 60, 61, 62, 63, 64, 65, 66, 67, 68, 69, 70, 71, 72, 73, 74, 75, 76, 77, 78, 79, 80, 81, 82, 83, 84, 85, 86, 87, 88, 89, 90, 91, 92, 93, 94, 95, 96, 97, 98, 99], 'visible': True, 'hasClickAction': False}], 'type': 'Plot', 'log_y': False, 'legend_position': {'position': 'TOP_RIGHT'}, 'init_height': 480, 'omit_checkboxes': False, 'chart_title': 'Log x, Linear y', 'texts': [], 'x_log_base': 10, 'rangeAxes': [{'lower_margin': 0.05, 'label': '', 'auto_range_includes_zero': False, 'log_base': 10.0, 'use_log': False, 'type': 'YAxis', 'auto_range': True, 'upper_bound': 0.0, 'upper_margin': 0.05, 'lower_bound': 0.0}], 'use_tool_tip': True, 'x_auto_range': True, 'x_lower_bound': 0, 'legend_layout': 'VERTICAL', 'x_lower_margin': 0.05}], 'init_width': 640, 'weights': [3, 3, 3], 'plot_type': 'Plot', 'x_label': 'CombinedPlot', 'version': 'groovy', 'type': 'CombinedPlot'})"
      ]
     },
     "metadata": {},
     "output_type": "display_data"
    }
   ],
   "source": [
    "import math\n",
    "points = 100;\n",
    "xs = [];\n",
    "for i in range(0, points):\n",
    "  xs.append(i)\n",
    "\n",
    "cplot = CombinedPlot(xLabel= \"CombinedPlot\");\n",
    "\n",
    "linearPlot = Plot(title= \"Linear x, Linear y\");\n",
    "linearPlot.add(Line(x= xs, y= xs));\n",
    "cplot.add(linearPlot, 3);\n",
    "\n",
    "logYPlot = Plot(logY= True, logX=False, title= \"Linear x, Log y\");\n",
    "logYPlot.add(Line(x= xs, y= xs));\n",
    "cplot.add(logYPlot, 3);\n",
    "\n",
    "logYPlot = Plot(logY= False, logX=True, title= \"Log x, Linear y\");\n",
    "logYPlot.add(Line(x= xs, y= xs));\n",
    "cplot.add(logYPlot, 3);\n",
    "\n",
    "cplot\n"
   ]
  },
  {
   "cell_type": "code",
   "execution_count": null,
   "metadata": {},
   "outputs": [],
   "source": []
  }
 ],
 "metadata": {
  "kernelspec": {
   "display_name": "Python 3",
   "language": "python",
   "name": "python3"
  },
  "language_info": {
   "codemirror_mode": {
    "name": "ipython",
    "version": 3
   },
   "file_extension": ".py",
   "mimetype": "text/x-python",
   "name": "python",
   "nbconvert_exporter": "python",
   "pygments_lexer": "ipython3",
   "version": "3.5.4"
  }
 },
 "nbformat": 4,
 "nbformat_minor": 1
}

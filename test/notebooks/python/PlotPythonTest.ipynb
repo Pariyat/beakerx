{
 "cells": [
  {
   "cell_type": "code",
   "execution_count": 1,
   "metadata": {},
   "outputs": [
    {
     "data": {
      "application/vnd.jupyter.widget-view+json": {
       "model_id": "a5aa6a4ccc4143159a710b3ffb43176f",
       "version_major": 2,
       "version_minor": 0
      },
      "text/html": [
       "<p>Failed to display Jupyter Widget of type <code>Plot</code>.</p>\n",
       "<p>\n",
       "  If you're reading this message in Jupyter Notebook or JupyterLab, it may mean\n",
       "  that the widgets JavaScript is still loading. If this message persists, it\n",
       "  likely means that the widgets JavaScript library is either not installed or\n",
       "  not enabled. See the <a href=\"https://ipywidgets.readthedocs.io/en/stable/user_install.html\">Jupyter\n",
       "  Widgets Documentation</a> for setup instructions.\n",
       "</p>\n",
       "<p>\n",
       "  If you're reading this message in another notebook frontend (for example, a static\n",
       "  rendering on GitHub or <a href=\"https://nbviewer.jupyter.org/\">NBViewer</a>),\n",
       "  it may mean that your frontend doesn't currently support widgets.\n",
       "</p>\n"
      ],
      "text/plain": [
       "Plot(model={'log_x': False, 'chart_title': 'test title', 'type': 'XYChart', 'graphics_list': [], 'x_lower_margin': 0.05, 'constant_bands': [], 'domain_axis_label': 'x label', 'x_upper_bound': 0, 'x_upper_margin': 0.05, 'y_label': 'y label', 'log_y': False, 'x_log_base': 10, 'rangeAxes': [{'auto_range': True, 'use_log': False, 'label': '', 'log_base': 10.0, 'lower_bound': 0.0, 'upper_bound': 0.0, 'lower_margin': 0.05, 'type': 'YAxis', 'upper_margin': 0.05, 'auto_range_includes_zero': False}], 'texts': [], 'omit_checkboxes': False, 'x_auto_range': True, 'legend_layout': 'VERTICAL', 'x_lower_bound': 0, 'legend_position': {'position': 'TOP_RIGHT'}, 'use_tool_tip': True, 'init_width': 640, 'init_height': 480, 'constant_lines': []})"
      ]
     },
     "metadata": {},
     "output_type": "display_data"
    }
   ],
   "source": [
    "from beakerx import *\n",
    "Plot(title=\"test title\",\n",
    "     xLabel=\"x label\",\n",
    "     yLabel=\"y label\")"
   ]
  },
  {
   "cell_type": "code",
   "execution_count": 2,
   "metadata": {},
   "outputs": [
    {
     "data": {
      "application/vnd.jupyter.widget-view+json": {
       "model_id": "72e7cafa5d884fdea48c2748fe935170",
       "version_major": 2,
       "version_minor": 0
      },
      "text/html": [
       "<p>Failed to display Jupyter Widget of type <code>Plot</code>.</p>\n",
       "<p>\n",
       "  If you're reading this message in Jupyter Notebook or JupyterLab, it may mean\n",
       "  that the widgets JavaScript is still loading. If this message persists, it\n",
       "  likely means that the widgets JavaScript library is either not installed or\n",
       "  not enabled. See the <a href=\"https://ipywidgets.readthedocs.io/en/stable/user_install.html\">Jupyter\n",
       "  Widgets Documentation</a> for setup instructions.\n",
       "</p>\n",
       "<p>\n",
       "  If you're reading this message in another notebook frontend (for example, a static\n",
       "  rendering on GitHub or <a href=\"https://nbviewer.jupyter.org/\">NBViewer</a>),\n",
       "  it may mean that your frontend doesn't currently support widgets.\n",
       "</p>\n"
      ],
      "text/plain": [
       "Plot(model={'x_log_base': 10, 'graphics_list': [{'display_name': 'Bar', 'hasClickAction': False, 'base': 0, 'x': [20, 40, 60], 'type': 'Bars', 'width': 10, 'visible': True, 'y': [100, 120, 90]}], 'constant_bands': [], 'log_x': False, 'texts': [], 'omit_checkboxes': False, 'x_auto_range': True, 'type': 'XYChart', 'rangeAxes': [{'auto_range': True, 'use_log': False, 'label': '', 'log_base': 10.0, 'lower_bound': 0.0, 'upper_bound': 0.0, 'lower_margin': 0.05, 'type': 'YAxis', 'upper_margin': 0.05, 'auto_range_includes_zero': False}], 'legend_layout': 'VERTICAL', 'x_lower_bound': 0, 'legend_position': {'position': 'TOP_RIGHT'}, 'use_tool_tip': True, 'init_width': 640, 'x_lower_margin': 0.05, 'x_upper_margin': 0.05, 'init_height': 480, 'constant_lines': [], 'log_y': False, 'x_upper_bound': 0})"
      ]
     },
     "metadata": {},
     "output_type": "display_data"
    }
   ],
   "source": [
    "plot1 = Plot()\n",
    "plot1.add(Bars(displayName=\"Bar\", \n",
    "       x=[20,40,60], \n",
    "       y=[100, 120, 90], \n",
    "       width=10))"
   ]
  },
  {
   "cell_type": "code",
   "execution_count": 3,
   "metadata": {},
   "outputs": [
    {
     "data": {
      "application/vnd.jupyter.widget-view+json": {
       "model_id": "6dd0039dff6944e1a8dae0ea7d5bad4c",
       "version_major": 2,
       "version_minor": 0
      },
      "text/html": [
       "<p>Failed to display Jupyter Widget of type <code>Plot</code>.</p>\n",
       "<p>\n",
       "  If you're reading this message in Jupyter Notebook or JupyterLab, it may mean\n",
       "  that the widgets JavaScript is still loading. If this message persists, it\n",
       "  likely means that the widgets JavaScript library is either not installed or\n",
       "  not enabled. See the <a href=\"https://ipywidgets.readthedocs.io/en/stable/user_install.html\">Jupyter\n",
       "  Widgets Documentation</a> for setup instructions.\n",
       "</p>\n",
       "<p>\n",
       "  If you're reading this message in another notebook frontend (for example, a static\n",
       "  rendering on GitHub or <a href=\"https://nbviewer.jupyter.org/\">NBViewer</a>),\n",
       "  it may mean that your frontend doesn't currently support widgets.\n",
       "</p>\n"
      ],
      "text/plain": [
       "Plot(model={'x_log_base': 10, 'graphics_list': [{'hasClickAction': False, 'x': [1, 5, 3], 'type': 'Line', 'width': 1.5, 'visible': True, 'y': [1, 2, 6]}], 'constant_bands': [], 'log_x': False, 'texts': [], 'omit_checkboxes': False, 'x_auto_range': True, 'type': 'XYChart', 'rangeAxes': [{'auto_range': True, 'use_log': False, 'label': '', 'log_base': 10.0, 'lower_bound': 0.0, 'upper_bound': 0.0, 'lower_margin': 0.05, 'type': 'YAxis', 'upper_margin': 0.05, 'auto_range_includes_zero': False}], 'legend_layout': 'VERTICAL', 'x_lower_bound': 0, 'legend_position': {'position': 'TOP_RIGHT'}, 'use_tool_tip': True, 'init_width': 640, 'x_lower_margin': 0.05, 'x_upper_margin': 0.05, 'init_height': 480, 'constant_lines': [], 'log_y': False, 'x_upper_bound': 0})"
      ]
     },
     "metadata": {},
     "output_type": "display_data"
    }
   ],
   "source": [
    "plot2 = Plot()\n",
    "plot2.add(Line(x=[1, 5, 3], y=[1, 2, 6]))"
   ]
  },
  {
   "cell_type": "code",
   "execution_count": 4,
   "metadata": {},
   "outputs": [
    {
     "data": {
      "application/vnd.jupyter.widget-view+json": {
       "model_id": "d259bda7fe23489e8382afea535b94a2",
       "version_major": 2,
       "version_minor": 0
      },
      "text/html": [
       "<p>Failed to display Jupyter Widget of type <code>Plot</code>.</p>\n",
       "<p>\n",
       "  If you're reading this message in Jupyter Notebook or JupyterLab, it may mean\n",
       "  that the widgets JavaScript is still loading. If this message persists, it\n",
       "  likely means that the widgets JavaScript library is either not installed or\n",
       "  not enabled. See the <a href=\"https://ipywidgets.readthedocs.io/en/stable/user_install.html\">Jupyter\n",
       "  Widgets Documentation</a> for setup instructions.\n",
       "</p>\n",
       "<p>\n",
       "  If you're reading this message in another notebook frontend (for example, a static\n",
       "  rendering on GitHub or <a href=\"https://nbviewer.jupyter.org/\">NBViewer</a>),\n",
       "  it may mean that your frontend doesn't currently support widgets.\n",
       "</p>\n"
      ],
      "text/plain": [
       "Plot(model={'x_log_base': 10, 'graphics_list': [{'hasClickAction': False, 'shape': 'DIAMOND', 'size': 10, 'x': [1, 2, 3, 4, 5], 'type': 'Points', 'visible': True, 'y': [1, 3, 6, 3, 1]}], 'constant_bands': [], 'log_x': False, 'texts': [], 'omit_checkboxes': False, 'x_auto_range': True, 'type': 'XYChart', 'rangeAxes': [{'auto_range': True, 'use_log': False, 'label': '', 'log_base': 10.0, 'lower_bound': 0.0, 'upper_bound': 0.0, 'lower_margin': 0.05, 'type': 'YAxis', 'upper_margin': 0.05, 'auto_range_includes_zero': False}], 'legend_layout': 'VERTICAL', 'x_lower_bound': 0, 'legend_position': {'position': 'TOP_RIGHT'}, 'use_tool_tip': True, 'init_width': 640, 'x_lower_margin': 0.05, 'x_upper_margin': 0.05, 'init_height': 480, 'constant_lines': [], 'log_y': False, 'x_upper_bound': 0})"
      ]
     },
     "metadata": {},
     "output_type": "display_data"
    }
   ],
   "source": [
    "plot3 = Plot()\n",
    "plot3.add(Points(y=[1, 3, 6, 3, 1], \n",
    "              x=[1, 2, 3, 4, 5], \n",
    "              size=10, \n",
    "              shape=ShapeType.DIAMOND))"
   ]
  },
  {
   "cell_type": "code",
   "execution_count": 5,
   "metadata": {},
   "outputs": [
    {
     "data": {
      "application/vnd.jupyter.widget-view+json": {
       "model_id": "8a40e481910a46829df5084a4e2747f5",
       "version_major": 2,
       "version_minor": 0
      },
      "text/html": [
       "<p>Failed to display Jupyter Widget of type <code>Plot</code>.</p>\n",
       "<p>\n",
       "  If you're reading this message in Jupyter Notebook or JupyterLab, it may mean\n",
       "  that the widgets JavaScript is still loading. If this message persists, it\n",
       "  likely means that the widgets JavaScript library is either not installed or\n",
       "  not enabled. See the <a href=\"https://ipywidgets.readthedocs.io/en/stable/user_install.html\">Jupyter\n",
       "  Widgets Documentation</a> for setup instructions.\n",
       "</p>\n",
       "<p>\n",
       "  If you're reading this message in another notebook frontend (for example, a static\n",
       "  rendering on GitHub or <a href=\"https://nbviewer.jupyter.org/\">NBViewer</a>),\n",
       "  it may mean that your frontend doesn't currently support widgets.\n",
       "</p>\n"
      ],
      "text/plain": [
       "Plot(model={'x_log_base': 10, 'graphics_list': [{'hasClickAction': False, 'base': 0, 'x': [0, 1, 2, 3, 4, 5, 6, 7, 8, 9, 10, 11, 12, 13, 14, 15, 16, 17, 18, 19, 20, 21, 22, 23, 24, 25, 26, 27, 28, 29, 30, 31, 32, 33, 34, 35, 36, 37, 38, 39, 40, 41, 42, 43, 44, 45, 46, 47, 48, 49, 50, 51, 52, 53, 54, 55, 56, 57, 58, 59, 60, 61, 62, 63, 64, 65, 66, 67, 68, 69, 70, 71, 72, 73, 74, 75, 76, 77, 78, 79, 80, 81, 82, 83, 84, 85, 86, 87, 88, 89, 90, 91, 92, 93, 94, 95, 96, 97, 98, 99, 100, 101, 102, 103, 104, 105, 106, 107, 108, 109, 110, 111, 112, 113, 114, 115, 116, 117, 118, 119, 120, 121, 122, 123, 124, 125, 126, 127, 128, 129, 130, 131, 132, 133, 134, 135, 136, 137, 138, 139, 140, 141, 142, 143, 144, 145, 146, 147, 148, 149, 150, 151, 152, 153, 154, 155, 156, 157, 158, 159, 160, 161, 162, 163, 164, 165, 166, 167, 168, 169, 170, 171, 172, 173, 174, 175, 176, 177, 178, 179, 180, 181, 182, 183, 184, 185, 186, 187, 188, 189, 190, 191, 192, 193, 194, 195, 196, 197, 198, 199, 200, 201, 202, 203, 204, 205, 206, 207, 208, 209, 210, 211, 212, 213, 214, 215, 216, 217, 218, 219, 220, 221, 222, 223, 224, 225, 226, 227, 228, 229, 230, 231, 232, 233, 234, 235, 236, 237, 238, 239, 240, 241, 242, 243, 244, 245, 246, 247, 248, 249, 250, 251, 252, 253, 254, 255, 256, 257, 258, 259, 260, 261, 262, 263, 264, 265, 266, 267, 268, 269, 270, 271, 272, 273, 274, 275, 276, 277, 278, 279, 280, 281, 282, 283, 284, 285, 286, 287, 288, 289, 290, 291, 292, 293, 294, 295, 296, 297, 298, 299, 300, 301, 302, 303, 304, 305, 306, 307, 308, 309, 310, 311, 312], 'type': 'Bars', 'visible': True, 'y': [7.921, 8.1111, 8.35, 8.4045, 8.3164, 8.0962, 7.941, 7.7791, 7.7632, 7.5514, 7.3135, 7.0505, 6.6443, 6.2668, 6.396, 6.2359, 6.1305, 6.3585, 6.3055, 5.7782, 5.5725, 5.3336, 4.8895, 4.3781, 4.151, 4.2874, 4.6345, 4.299, 4.1895, 4.1659, 3.5959, 3.4719, 3.1843, 3.3024, 3.6821, 3.7114, 3.4963, 3.3858, 3.333, 3.2443, 3.3635, 3.5364, 3.4748, 3.4436, 3.3562, 3.392, 3.579, 3.6073, 3.5425, 3.8658, 4.3191, 4.8158, 5.3143, 5.2673, 5.4765, 5.5622, 5.7629, 6.1145, 6.54, 7.1362, 7.0505, 6.6968, 6.4317, 6.2658, 5.9977, 5.6423, 5.594, 5.7526, 5.62, 5.5905, 5.4329, 5.307, 5.0876, 4.942, 5.3424, 5.5377, 5.6368, 5.81, 5.8509, 5.6668, 5.833, 5.55, 5.4232, 5.4719, 5.6124, 5.5253, 5.7955, 5.9882, 5.8695, 5.6919, 5.5418, 5.5648, 5.5238, 5.4564, 5.4572, 5.525, 5.2445, 5.3084, 5.3895, 5.379, 5.44, 5.4086, 5.3582, 5.2052, 4.711, 4.1214, 4.5253, 4.5186, 4.5142, 4.7026, 4.7813, 4.69, 4.849, 5.0968, 5.0319, 5.1977, 5.2514, 5.429, 5.5535, 5.8423, 6.1215, 6.218, 6.2222, 6.1505, 6.3264, 6.1727, 6.0825, 6.183, 6.1255, 6.0124, 6.0919, 5.6025, 4.8148, 4.6842, 4.2986, 3.9765, 3.7814, 3.5762, 3.6171, 3.4704, 2.8247, 2.3305, 2.182, 2.2155, 2.1586, 2.2326, 2.567, 2.4759, 2.3541, 2.1965, 1.9609, 1.7573, 1.715, 1.65, 1.4916, 1.45, 1.3643, 1.2963, 1.24, 1.2671, 1.1814, 1.0095, 1.1164, 1.3086, 1.2376, 1.2541, 1.3367, 1.3059, 1.2395, 1.2437, 1.1874, 1.4338, 1.7775, 2.1152, 2.0952, 2.0159, 2.1167, 2.228, 2.5, 2.6705, 2.8605, 3.0295, 3.3023, 3.3167, 3.331, 3.3632, 3.641, 3.8722, 3.8452, 4.1755, 4.334, 4.3529, 4.445, 4.6847, 4.7735, 4.8974, 4.995, 5.155, 5.2175, 5.0826, 4.9745, 5.01, 5.011, 4.9415, 5.0571, 5.0537, 4.9205, 4.9324, 4.9091, 4.9624, 4.9643, 4.4722, 4.1368, 4.0968, 3.499, 3.263, 2.7114, 2.0535, 1.544, 1.7382, 2.0557, 2.4195, 2.2818, 2.1771, 1.9129, 1.4205, 1.0667, 0.4945, 0.4445, 0.6226, 0.6441, 0.5476, 0.5015, 0.5136, 0.4786, 0.459, 0.4048, 0.3748, 0.3132, 0.3714, 0.3458, 0.3458, 0.3957, 0.445, 0.371, 0.3182, 0.2914, 0.2591, 0.2567, 0.228, 0.252, 0.2941, 0.2735, 0.2863, 0.2591, 0.2465, 0.1881, 0.1809, 0.185, 0.1148, 0.1048, 0.1145, 0.112, 0.1152, 0.115, 0.161, 0.19, 0.1833, 0.1918, 0.189, 0.1857, 0.1835, 0.1758, 0.1795, 0.1785, 0.1585, 0.1452, 0.1574, 0.1475, 0.1245, 0.1186, 0.142, 0.1218, 0.1268, 0.1185, 0.1214, 0.1216, 0.1329, 0.1162, 0.1168, 0.1281, 0.1076, 0.0967, 0.1048, 0.1114, 0.1071, 0.1095, 0.1045, 0.1344, 0.2145, 0.1955, 0.2242, 0.2536, 0.2336, 0.241, 0.2755, 0.2968, 0.3757, 0.3733, 0.2633, 0.4768, 0.6536, 0.61]}], 'constant_bands': [], 'log_x': False, 'texts': [], 'omit_checkboxes': False, 'x_auto_range': True, 'type': 'XYChart', 'rangeAxes': [{'auto_range': True, 'use_log': False, 'label': '', 'log_base': 10.0, 'lower_bound': 0.0, 'upper_bound': 0.0, 'lower_margin': 0.05, 'type': 'YAxis', 'upper_margin': 0.05, 'auto_range_includes_zero': False}], 'legend_layout': 'VERTICAL', 'x_lower_bound': 0, 'legend_position': {'position': 'TOP_RIGHT'}, 'use_tool_tip': True, 'init_width': 640, 'x_lower_margin': 0.05, 'x_upper_margin': 0.05, 'init_height': 480, 'constant_lines': [], 'log_y': False, 'x_upper_bound': 0})"
      ]
     },
     "metadata": {},
     "output_type": "display_data"
    }
   ],
   "source": [
    "import pandas as pd\n",
    "\n",
    "tableRows = pd.read_csv('../../../doc/contents/demoResources/interest-rates.csv')\n",
    "pp1 = Plot()\n",
    "pp1.add(Bars(y=tableRows.y1))"
   ]
  },
  {
   "cell_type": "code",
   "execution_count": 6,
   "metadata": {},
   "outputs": [
    {
     "data": {
      "application/vnd.jupyter.widget-view+json": {
       "model_id": "4cea2286d5e24a949959fe6dfa7b87d7",
       "version_major": 2,
       "version_minor": 0
      },
      "text/html": [
       "<p>Failed to display Jupyter Widget of type <code>Plot</code>.</p>\n",
       "<p>\n",
       "  If you're reading this message in Jupyter Notebook or JupyterLab, it may mean\n",
       "  that the widgets JavaScript is still loading. If this message persists, it\n",
       "  likely means that the widgets JavaScript library is either not installed or\n",
       "  not enabled. See the <a href=\"https://ipywidgets.readthedocs.io/en/stable/user_install.html\">Jupyter\n",
       "  Widgets Documentation</a> for setup instructions.\n",
       "</p>\n",
       "<p>\n",
       "  If you're reading this message in another notebook frontend (for example, a static\n",
       "  rendering on GitHub or <a href=\"https://nbviewer.jupyter.org/\">NBViewer</a>),\n",
       "  it may mean that your frontend doesn't currently support widgets.\n",
       "</p>\n"
      ],
      "text/plain": [
       "Plot(model={'x_log_base': 10, 'graphics_list': [{'hasClickAction': False, 'x': [10, 20, 30, 40, 50, 60, 70], 'type': 'Line', 'width': 5, 'visible': True, 'y': [0, 60, 10, 50, 20, 40, 30]}], 'constant_bands': [], 'log_x': False, 'texts': [], 'omit_checkboxes': False, 'x_auto_range': True, 'type': 'XYChart', 'rangeAxes': [{'auto_range': True, 'use_log': False, 'label': '', 'log_base': 10.0, 'lower_bound': 0.0, 'upper_bound': 0.0, 'lower_margin': 0.05, 'type': 'YAxis', 'upper_margin': 0.05, 'auto_range_includes_zero': False}], 'legend_layout': 'VERTICAL', 'x_lower_bound': 0, 'legend_position': {'position': 'TOP_RIGHT'}, 'use_tool_tip': True, 'init_width': 640, 'x_lower_margin': 0.05, 'x_upper_margin': 0.05, 'init_height': 480, 'constant_lines': [], 'log_y': False, 'x_upper_bound': 0})"
      ]
     },
     "metadata": {},
     "output_type": "display_data"
    }
   ],
   "source": [
    "pp2 = Plot()\n",
    "pp2.add(Line(\n",
    "        x=pd.Series([10, 20, 30, 40, 50, 60, 70]), \n",
    "        y=pd.Series([0, 60, 10, 50, 20, 40, 30]), \n",
    "        width=5))"
   ]
  },
  {
   "cell_type": "code",
   "execution_count": null,
   "metadata": {},
   "outputs": [],
   "source": []
  }
 ],
 "metadata": {
  "kernelspec": {
   "display_name": "Python 3",
   "language": "python",
   "name": "python3"
  },
  "language_info": {
   "codemirror_mode": {
    "name": "ipython",
    "version": 3
   },
   "file_extension": ".py",
   "mimetype": "text/x-python",
   "name": "python",
   "nbconvert_exporter": "python",
   "pygments_lexer": "ipython3",
   "version": "3.5.4"
  }
 },
 "nbformat": 4,
 "nbformat_minor": 1
}

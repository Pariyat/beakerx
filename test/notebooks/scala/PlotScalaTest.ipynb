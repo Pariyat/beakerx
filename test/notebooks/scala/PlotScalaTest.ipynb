{
 "cells": [
  {
   "cell_type": "code",
   "execution_count": 1,
   "metadata": {},
   "outputs": [
    {
     "data": {
      "application/vnd.jupyter.widget-view+json": {
       "model_id": "2d57c4d5-c8de-404d-9104-16119c56e4a5",
       "version_major": 2,
       "version_minor": 0
      },
      "method": "display_data"
     },
     "metadata": {},
     "output_type": "display_data"
    }
   ],
   "source": [
    "val plot = new Plot();\n",
    "val y1 = Seq(1.5, 1, 6, 5, 2, 8)\n",
    "val cs = Seq(Color.black, Color.red, Color.gray, Color.green, Color.blue, Color.pink)\n",
    "val ss = Seq(StrokeType.SOLID, StrokeType.SOLID, StrokeType.DASH, StrokeType.DOT, StrokeType.DASHDOT, StrokeType.LONGDASH)\n",
    "plot.add(new Stems(y1, cs, ss, 5))"
   ]
  },
  {
   "cell_type": "code",
   "execution_count": 2,
   "metadata": {},
   "outputs": [
    {
     "data": {
      "application/vnd.jupyter.widget-view+json": {
       "model_id": "155f0d76-1d08-43e0-800f-5f7daa04b821",
       "version_major": 2,
       "version_minor": 0
      },
      "method": "display_data"
     },
     "metadata": {},
     "output_type": "display_data"
    }
   ],
   "source": [
    "val plot = new Plot(\"Elo\")\n",
    "var cs = new Color(255, 0, 0, 128)// transparent bars\n",
    "//cs[3] = Color.red // set color of a single bar, solid colored bar\n",
    "plot.add(new Bars(Seq(1, 2, 3, 4), Seq(3, 5, 2, 3, 7), cs, Color.black, 0.3))"
   ]
  },
  {
   "cell_type": "code",
   "execution_count": 3,
   "metadata": {},
   "outputs": [
    {
     "data": {
      "application/vnd.jupyter.widget-view+json": {
       "model_id": "a9e7da61-7cdd-49dc-b18a-47f7df363681",
       "version_major": 2,
       "version_minor": 0
      },
      "method": "display_data"
     },
     "metadata": {},
     "output_type": "display_data"
    }
   ],
   "source": [
    "val plot = new Plot(\"Changing Point Size, Color, Shape\")\n",
    "val y1 = Seq(6, 7, 12, 11, 8, 14)\n",
    "val y2 = y1.map(x => x - 1)\n",
    "val y3 = y1.map(x => x - 2)\n",
    "val y4 = y1.map(x => x - 3)\n",
    "plot.add(new Points(y1))\n",
    "plot.add(new Points(y2, ShapeType.CIRCLE))\n",
    "plot.add(new Points(y3, 8.0, ShapeType.DIAMOND))\n",
    "plot.add(new Points(y4, 12.0, Color.orange, Color.red))"
   ]
  },
  {
   "cell_type": "code",
   "execution_count": 4,
   "metadata": {},
   "outputs": [
    {
     "data": {
      "application/vnd.jupyter.widget-view+json": {
       "model_id": "650a7442-b711-4fcc-a89e-11cf858fb093",
       "version_major": 2,
       "version_minor": 0
      },
      "method": "display_data"
     },
     "metadata": {},
     "output_type": "display_data"
    }
   ],
   "source": [
    "val plot = new Plot(\"Changing point properties with list\")\n",
    "val cs = Seq(Color.black, Color.red, Color.orange, Color.green, Color.blue, Color.pink)\n",
    "val ss = Seq(6.0, 9.0, 12.0, 15.0, 18.0, 21.0)\n",
    "val fs = Seq(false, false, false, true, false, false)\n",
    "\n",
    "val list = List(new Points(Seq(5,5,5,5,5,5), 12.0, cs), \n",
    "                new Points(Seq(4,4,4,4,4,4), 12.0, Color.gray, cs),\n",
    "                new Points(Seq(3,3,3,3,3,3), 12, Color.red),\n",
    "                new Points(Seq(2,2,2,2,2,2), 12.0, Color.black, fs, Color.black))\n",
    "\n",
    "plot.add(list)"
   ]
  },
  {
   "cell_type": "code",
   "execution_count": 5,
   "metadata": {},
   "outputs": [
    {
     "data": {
      "application/vnd.jupyter.widget-view+json": {
       "model_id": "cbe61be0-1745-4bdb-83b3-c47b428a16d4",
       "version_major": 2,
       "version_minor": 0
      },
      "method": "display_data"
     },
     "metadata": {},
     "output_type": "display_data"
    }
   ],
   "source": [
    "val plot = new Plot()\n",
    "val y = Seq(3, 5, 2, 3)\n",
    "val x0 = Seq(0, 1, 2, 3)\n",
    "val x1 = Seq(3, 4, 5, 8)\n",
    "plot.add(new Area(x0, y))\n",
    "plot.add(new Area(x1, y, new Color(128, 128, 128, 50), 0))"
   ]
  },
  {
   "cell_type": "code",
   "execution_count": 6,
   "metadata": {},
   "outputs": [
    {
     "data": {
      "application/vnd.jupyter.widget-view+json": {
       "model_id": "9cee47aa-fa50-4840-8ab9-a575fc87c65b",
       "version_major": 2,
       "version_minor": 0
      },
      "method": "display_data"
     },
     "metadata": {},
     "output_type": "display_data"
    }
   ],
   "source": [
    "val p = new Plot()\n",
    "p.add(new Line(Seq(3, 6, 12, 24), \"Median\"))\n",
    "p.add(new Area(Seq(4, 8, 16, 32), Seq(2, 4, 8, 16), new Color(255, 0, 0, 50), \"Q1 to Q3\"))"
   ]
  },
  {
   "cell_type": "code",
   "execution_count": 7,
   "metadata": {},
   "outputs": [
    {
     "data": {
      "application/vnd.jupyter.widget-view+json": {
       "model_id": "2c1e7033-9083-4fcc-8311-9103ae09da5e",
       "version_major": 2,
       "version_minor": 0
      },
      "method": "display_data"
     },
     "metadata": {},
     "output_type": "display_data"
    }
   ],
   "source": [
    "val y1 = Seq(1,5,3,2,3)\n",
    "val y2 = Seq(7,2,4,1,3)\n",
    "val p = new Plot(\"Plot with XYStacker\", 200)\n",
    "val a1 = new Area(y1, \"y1\")\n",
    "val a2 = new Area(y2, \"y2\")"
   ]
  },
  {
   "cell_type": "code",
   "execution_count": 7,
   "metadata": {},
   "outputs": [
    {
     "data": {
      "application/vnd.jupyter.widget-view+json": {
       "model_id": "ec9a28b8-f2c3-4717-8b5d-2aed0c2f57de",
       "version_major": 2,
       "version_minor": 0
      },
      "method": "display_data"
     },
     "metadata": {},
     "output_type": "display_data"
    }
   ],
   "source": [
    "val p = new Plot ()\n",
    "p.add(new Line(Seq(-1, 1)))\n",
    "p.add(new ConstantLine(0, 0.65, StrokeType.DOT, Color.blue))\n",
    "p.add(new ConstantLine(0, 1, StrokeType.DASHDOT, Color.blue))\n",
    "p.add(new ConstantLine(1, 0.4, Color.gray, 5, true))"
   ]
  },
  {
   "cell_type": "code",
   "execution_count": 8,
   "metadata": {},
   "outputs": [
    {
     "data": {
      "application/vnd.jupyter.widget-view+json": {
       "model_id": "872bec1c-8fca-4611-9f9e-291b23686268",
       "version_major": 2,
       "version_minor": 0
      },
      "method": "display_data"
     },
     "metadata": {},
     "output_type": "display_data"
    }
   ],
   "source": [
    "val constBand = new ConstantBand(Seq(1, 2), Seq(1, 3))\n",
    "val lineVal = new Line(Seq(-3, 1, 3, 4, 5))\n",
    "val plot = new Plot()\n",
    "plot.add(lineVal)\n",
    "plot.add(constBand)"
   ]
  },
  {
   "cell_type": "code",
   "execution_count": 9,
   "metadata": {},
   "outputs": [
    {
     "data": {
      "application/vnd.jupyter.widget-view+json": {
       "model_id": "676d2923-c913-485e-9764-bd99d96ba2a4",
       "version_major": 2,
       "version_minor": 0
      },
      "method": "display_data"
     },
     "metadata": {},
     "output_type": "display_data"
    }
   ],
   "source": [
    "val p = new Plot() \n",
    "p.add(new Line(Seq(-3, 1, 2, 4, 5), Seq(4, 2, 6, 1, 5)))\n",
    "p.add(new ConstantBand(Seq(Double.NegativeInfinity, 1), new Color(128, 128, 128, 50)))\n",
    "p.add(new ConstantBand(Seq(1, 2)))\n",
    "p.add(new ConstantBand(Seq(4, Double.PositiveInfinity)))"
   ]
  },
  {
   "cell_type": "code",
   "execution_count": 10,
   "metadata": {},
   "outputs": [
    {
     "data": {
      "application/vnd.jupyter.widget-view+json": {
       "model_id": "9b8148ca-ef0d-4098-aba6-ff592419f2fe",
       "version_major": 2,
       "version_minor": 0
      },
      "method": "display_data"
     },
     "metadata": {},
     "output_type": "display_data"
    }
   ],
   "source": [
    "val plot = new Plot()\n",
    "val xs = Seq(1,2,3,4,5,6,7,8,9,10)\n",
    "val ys = Seq(8.6, 6.1, 7.4, 2.5, 0.4, 0.0, 0.5, 1.7, 8.4, 1)\n",
    "\n",
    "plot.add(new Line(xs, ys))\n",
    "\n",
    "def label(i: Int) : String = { \n",
    "  if (ys(i) > ys(i+1) && ys(i) > ys(i-1)) return \"max\"\n",
    "  if (ys(i) < ys(i+1) && ys(i) < ys(i-1)) return \"min\"\n",
    "  if (ys(i) > ys(i-1)) return \"rising\"\n",
    "  if (ys(i) < ys(i-1)) return \"falling\"\n",
    "  return \"\"\n",
    "}\n",
    "\n",
    "for (i <- 0 to xs.size) {\n",
    "  if (i > 0 && i < xs.size - 1) {\n",
    "    plot.add(new Text(xs(i), ys(i), label(i), -i/3.0))\n",
    "  }\n",
    "}\n",
    "\n",
    "plot"
   ]
  },
  {
   "cell_type": "code",
   "execution_count": 11,
   "metadata": {},
   "outputs": [
    {
     "data": {
      "application/vnd.jupyter.widget-view+json": {
       "model_id": "ad8aee45-b8bf-45bb-914d-85af5fe55188",
       "version_major": 2,
       "version_minor": 0
      },
      "method": "display_data"
     },
     "metadata": {},
     "output_type": "display_data"
    }
   ],
   "source": [
    "val ch = new Crosshair(new Color(255, 128, 5), 2, StrokeType.DOT)\n",
    "val pp = new Plot(ch, true, LegendLayout.HORIZONTAL, LegendPosition.TOP)\n",
    "def x = Seq(1, 4, 6, 8, 10)\n",
    "def y = Seq(3, 6, 4, 5, 9)\n",
    "pp.add(new Line(\"Line\", x, y, 3))\n",
    "pp.add(new Bars(\"Bar\", Seq(1,2,3,4,5,6,7,8,9,10), Seq(2, 2, 4, 4, 2, 2, 0, 2, 2, 4), 0.5))\n",
    "pp.add(new Points(x, y, 10, Seq(\"x = \",\"y = \")))"
   ]
  },
  {
   "cell_type": "code",
   "execution_count": 12,
   "metadata": {},
   "outputs": [
    {
     "data": {
      "application/vnd.jupyter.widget-view+json": {
       "model_id": "3a958bb0-043f-4d13-bb2b-d32a274e5b99",
       "version_major": 2,
       "version_minor": 0
      },
      "method": "display_data"
     },
     "metadata": {},
     "output_type": "display_data"
    }
   ],
   "source": [
    "import com.twosigma.beakerx.scala.fileloader.CsvPlotReader\n",
    "\n",
    "val rates = new CsvPlotReader().read(\"../../../doc/contents/demoResources/interest-rates.csv\")\n",
    "\n",
    "new SimpleTimePlot(rates, Seq(\"y1\", \"y10\"), \"Price\", Seq(\"All\", \"1 Year\", \"10 Year\"))"
   ]
  },
  {
   "cell_type": "code",
   "execution_count": 13,
   "metadata": {},
   "outputs": [
    {
     "data": {
      "application/vnd.jupyter.widget-view+json": {
       "model_id": "b1edfc78-e55d-4f67-8de7-43c7f2d00a3a",
       "version_major": 2,
       "version_minor": 0
      },
      "method": "display_data"
     },
     "metadata": {},
     "output_type": "display_data"
    }
   ],
   "source": [
    "val points = 100\n",
    "val logBase = 10\n",
    "\n",
    "val xs = for (i <- 0 to points) yield i / 15.0\n",
    "val expys = for (x <- xs) yield Math.exp(x)\n",
    "\n",
    "val cplot = new CombinedPlot()\n",
    "val logYPlot = new Plot(\"Linear x, Log y\", \"Log\",\"\", logX=false, 0.0, logY=true, logBase);\n",
    "logYPlot.add(new Line(\"f(x) = exp(x)\", xs, expys, 3.0f))\n",
    "logYPlot.add(new Line(\"g(x) = x\", xs, xs, 3.0f))\n",
    "\n",
    "cplot.add(logYPlot, 3)\n",
    "\n",
    "val linearYPlot = new Plot(\"Linear x, Linear y\", \"Linear\", \"\", logX=false, 0.0, logY=false, logBase)\n",
    "linearYPlot.add(new Line(\"f(x) = exp(x)\", xs, expys, 3.0f))\n",
    "linearYPlot.add(new Line(\"g(x) = x\", xs, xs, 3.0f))\n",
    "cplot.add(linearYPlot, 3);\n",
    "\n",
    "cplot"
   ]
  },
  {
   "cell_type": "code",
   "execution_count": 14,
   "metadata": {},
   "outputs": [
    {
     "data": {
      "application/vnd.jupyter.widget-view+json": {
       "model_id": "0bbdd4c9-1f34-4011-8155-615b581f71b8",
       "version_major": 2,
       "version_minor": 0
      },
      "method": "display_data"
     },
     "metadata": {},
     "output_type": "display_data"
    }
   ],
   "source": [
    "val points = 100\n",
    "val logBase = 10\n",
    "val xs = for (i <- 0 to points) yield i / 15.0\n",
    "val expys = for (x <- xs) yield Math.exp(x)\n",
    "\n",
    "val plot = new Plot(\"Log x, Log y\", \"Log\",\"Log\", logX=true, logBase, logY=true, logBase);\n",
    "\n",
    "plot.add(new Line(\"f(x) = exp(x)\", xs, expys, 3.0f))\n",
    "plot.add(new Line(\"g(x) = x\", xs, xs, 3.0f))\n",
    "plot"
   ]
  },
  {
   "cell_type": "code",
   "execution_count": 15,
   "metadata": {},
   "outputs": [
    {
     "data": {
      "application/vnd.jupyter.widget-view+json": {
       "model_id": "16c53d9f-56f1-4921-8672-1a22ce095a0b",
       "version_major": 2,
       "version_minor": 0
      },
      "method": "display_data"
     },
     "metadata": {},
     "output_type": "display_data"
    }
   ],
   "source": [
    "import java.util.{Calendar, Date}\n",
    "import java.util.SimpleTimeZone\n",
    "\n",
    "val cal = Calendar.getInstance();\n",
    "cal.add(Calendar.HOUR, -1)\n",
    "\n",
    "val today = new Date()\n",
    "val millis = today.getTime()\n",
    "val hour = 1000 * 60 * 60;\n",
    "\n",
    "val plot = new TimePlot(new SimpleTimeZone(10800000, \"America/New_York\"))\n",
    "\n",
    "//list of milliseconds\n",
    "plot.add(new Points((0 to 10).map(x => millis + hour * x), \n",
    "                    (0 to 10),\n",
    "                    10,\n",
    "                    \"milliseconds\"));\n",
    "\n",
    "plot.add(new Points((0 to 10).map(x => {cal.add(Calendar.HOUR, 1); cal.getTime()}),\n",
    "                    (0 to 10),\n",
    "                    5,\n",
    "                    \"date objects\"));\n"
   ]
  },
  {
   "cell_type": "code",
   "execution_count": 16,
   "metadata": {},
   "outputs": [
    {
     "data": {
      "application/vnd.jupyter.widget-view+json": {
       "model_id": "f47c0450-03fd-42ab-88aa-1a63732ecccf",
       "version_major": 2,
       "version_minor": 0
      },
      "method": "display_data"
     },
     "metadata": {},
     "output_type": "display_data"
    }
   ],
   "source": [
    "import java.util.Date\n",
    "\n",
    "val today  = new Date()\n",
    "val millis = today.getTime()\n",
    "val nanos  = millis * 1000 * 1000// g makes it arbitrary precision\n",
    "val np = new NanoPlot()\n",
    "\n",
    "np.add(new Points((0 to 10).map(x => nanos + 7 * x), \n",
    "                  (0 to 10)))"
   ]
  },
  {
   "cell_type": "code",
   "execution_count": 17,
   "metadata": {},
   "outputs": [
    {
     "data": {
      "application/vnd.jupyter.widget-view+json": {
       "model_id": "4813acbd-ade5-4e6c-800c-627bdc962488",
       "version_major": 2,
       "version_minor": 0
      },
      "method": "display_data"
     },
     "metadata": {},
     "output_type": "display_data"
    }
   ],
   "source": [
    "import scala.util.Random\n",
    "\n",
    "val r = new Random()\n",
    "val p = new Plot(\"Advanced Plot Styling\",\n",
    "                 \"font-size:32px; font-weight: bold; font-family: courier; fill: green;\",\n",
    "                 \"stroke: purple; stroke-width: 3;\",\n",
    "                 \"color: green;\")\n",
    "\n",
    "p.add(new Points((1 to 1000).map(x => r.nextGaussian() * 10.0d),\n",
    "                 (1 to 1000).map(x => r.nextGaussian() * 20.0d)))"
   ]
  },
  {
   "cell_type": "code",
   "execution_count": 18,
   "metadata": {},
   "outputs": [
    {
     "data": {
      "application/vnd.jupyter.widget-view+json": {
       "model_id": "a2631d56-dec3-4f0e-b08a-c4144658e5c8",
       "version_major": 2,
       "version_minor": 0
      },
      "method": "display_data"
     },
     "metadata": {},
     "output_type": "display_data"
    }
   ],
   "source": [
    "import java.nio.file.Files\n",
    "import java.io.File\n",
    "\n",
    "val picture: Array[Byte] = Files.readAllBytes(new File(\"../../../doc/contents/widgetArch.png\").toPath())\n",
    "\n",
    "var p =  new Plot();\n",
    "// x y width height are coordinates, opacity is a double in 0~1\n",
    "\n",
    "// image can be loaded via bytes, filepath, or url\n",
    "p.add(new Rasters(List(-10,3), List(3,1.5), List(6,5), List(10,8), List(1,0.5), picture));\n",
    "//p << new Rasters(x: -1, y: 4.5, width: 5, height: 8, opacity:0.5, filePath: \"widgetArch.png\");\n",
    "p.add(new Rasters(List(-4), List(10.5), List(2), List(10), List(1), \"https://www.twosigma.com/static/img/twosigma.png\"));\n",
    "\n",
    "// a list of images!\n",
    "def x = List(-8, -5, -3, -2, -1, 1, 2, 4, 6, 8)\n",
    "def y = List(4, 5, 1, 2, 0 ,3, 6, 4, 5, 9)\n",
    "def width = List(1, 1, 1, 1, 1, 1, 1, 1, 1, 1)\n",
    "def opacity = List(0.1, 0.2, 0.3, 0.4, 0.5, 0.6, 0.7, 0.8, 0.9, 1)\n",
    "p.add(new Rasters(x, y, width, width, opacity, \"http://icons.iconarchive.com/icons/paomedia/small-n-flat/1024/sign-check-icon.png\"))\n"
   ]
  },
  {
   "cell_type": "code",
   "execution_count": 25,
   "metadata": {},
   "outputs": [
    {
     "data": {
      "application/vnd.jupyter.widget-view+json": {
       "model_id": "4c5679c3-24f9-4898-9e1a-6ba7515f98e2",
       "version_major": 2,
       "version_minor": 0
      },
      "method": "display_data"
     },
     "metadata": {},
     "output_type": "display_data"
    }
   ],
   "source": [
    "val plot = new Plot(\"Setting 2nd Axis bounds\")\n",
    "val ys = List(0, 2, 4, 6, 15, 10)\n",
    "val ys2 = List(-40, 50, 6, 4, 2, 0)\n",
    "val ys3 = List(3, 6, 3, 6, 70, 6)\n",
    "plot.add(new YAxis(\"Spread\"))\n",
    "plot.add(new Line(ys))\n",
    "plot.add(new Line(ys2, \"Spread\"))\n",
    "\n",
    "plot.getYAxes().get(0).setBound(1,5)\n",
    "\n",
    "plot"
   ]
  },
  {
   "cell_type": "code",
   "execution_count": null,
   "metadata": {},
   "outputs": [],
   "source": []
  }
 ],
 "metadata": {
  "kernelspec": {
   "display_name": "Scala",
   "language": "scala",
   "name": "scala"
  },
  "language_info": {
   "codemirror_mode": "text/x-scala",
   "file_extension": ".scala",
   "mimetype": "",
   "name": "Scala",
   "nbconverter_exporter": "",
   "version": "2.11.11"
  }
 },
 "nbformat": 4,
 "nbformat_minor": 2
}
